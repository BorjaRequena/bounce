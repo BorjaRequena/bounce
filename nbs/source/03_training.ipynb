{
 "cells": [
  {
   "cell_type": "raw",
   "metadata": {},
   "source": [
    "---\n",
    "description: To train the agents, we need a trainer. Reasonable, right?\n",
    "output-file: training.html\n",
    "title: Training\n",
    "---"
   ]
  },
  {
   "cell_type": "code",
   "execution_count": null,
   "metadata": {},
   "outputs": [],
   "source": [
    "#| export \n",
    "import numpy as np\n",
    "from copy import deepcopy\n",
    "from fastcore.all import *\n",
    "from tqdm.auto import tqdm\n",
    "from functools import partial\n",
    "from joblib import Parallel, delayed\n",
    "\n",
    "from bounce.environment import SdPEnvironment\n",
    "from bounce.agents import DQNAgent, DQN, BrFSAgent, MCAgent\n",
    "from bounce.utils import (T, array_in_list, state2str, load_checkpoint, save_model, load_model,\n",
    "                          get_agent_file_name, get_checkpoint_file_name)\n",
    "\n",
    "import torch\n",
    "import torch.nn as nn\n",
    "import torch.optim as optim"
   ]
  },
  {
   "cell_type": "code",
   "execution_count": null,
   "metadata": {},
   "outputs": [],
   "source": [
    "#| default_exp training"
   ]
  },
  {
   "cell_type": "code",
   "execution_count": null,
   "metadata": {},
   "outputs": [],
   "source": [
    "#| include: false\n",
    "from nbdev.showdoc import show_doc\n",
    "%load_ext autoreload\n",
    "%autoreload 2\n",
    "# %matplotlib inline"
   ]
  },
  {
   "cell_type": "markdown",
   "metadata": {},
   "source": [
    "# Deep Q-learning trainer\n",
    "\n",
    "The `DQNTrainer` handles the training of the deep reinforcement learning agent. "
   ]
  },
  {
   "cell_type": "code",
   "execution_count": null,
   "metadata": {},
   "outputs": [],
   "source": [
    "#| export\n",
    "class DQNTrainer:\n",
    "    \"Trainer for DQN agents\"\n",
    "    @delegates(DQNAgent.__init__)\n",
    "    def __init__(self, environment, n_agents=1, models=None, arch=DQN, n_jobs=1, **kwargs):\n",
    "        self.env = environment\n",
    "        self.arch = arch\n",
    "        self.agent_kwargs = kwargs\n",
    "        self.n_agents = n_agents\n",
    "        self.parallel = Parallel(n_jobs=n_jobs)\n",
    "        self.models = models\n",
    "        self._def_reset()\n",
    "        self.reset()\n",
    "        \n",
    "    def train(self, episodes, id0=0, **kwargs):\n",
    "        \"Performs `n_trains` in parallel.\"\n",
    "        train_setups = zip(self.envs, self.agents)\n",
    "        p_train = partial(train_agent, episodes=episodes, **kwargs)\n",
    "        results = self.parallel(delayed(p_train)(env, agent, train_id=k+id0) \n",
    "                                for k, (env,agent) in enumerate(train_setups))\n",
    "        return self._process_results(results)     \n",
    "        \n",
    "    def change_environment(self, problem=None, sdp_solver=None, budget=None, \n",
    "                           reward_criterion=\"bound_norm\", layout_basis=None, bound_tol=1e-3):\n",
    "        \"Changes the environment parameters\"\n",
    "        if problem is None:    problem = self.env.problem\n",
    "        if budget is None:     budget = self.env.budget\n",
    "        if sdp_solver is None: sdp_solver = self.env.solver\n",
    "        self.env = SdPEnvironment(problem, sdp_solver, budget, reward_criterion=reward_criterion,\n",
    "                                  layout_basis=layout_basis, bound_tol=bound_tol)\n",
    "        if self.envs is not None: \n",
    "            self.envs = [deepcopy(self.env) for _ in range(len(self.envs))]\n",
    "            \n",
    "    def set_agent_attrs(self, **attrs):\n",
    "        \"Changes values of the current agents, e.g., `agent.epsilon`\"\n",
    "        for attribute, value in attrs.items():\n",
    "            [setattr(agent, attribute, value) for agent in self.agents]\n",
    "        \n",
    "    def _process_results(self, results):\n",
    "        \"Processes the results as they come out of the parallel\"\n",
    "        agents, envs = [], []\n",
    "        final_rewards, final_costs, final_bounds, final_optims, expl_optims = [], [], [], [], []\n",
    "        visited_states, visited_bounds, visited_costs = [], [], []\n",
    "        oracle_rewards, visited_rewards = [], []\n",
    "        for result in results:\n",
    "            agent, env, rewards, cost, bounds, opt_eval, opt_exp = result[\"training\"]\n",
    "            agents.append(agent); envs.append(env); final_rewards.append(rewards);\n",
    "            final_costs.append(cost); final_bounds.append(bounds)\n",
    "            final_optims.append(opt_eval); expl_optims.append(opt_exp)   \n",
    "            \n",
    "            states, bounds, cost, o_rewards, env_rewards = result[\"exploration\"]\n",
    "            visited_states.append(states); visited_bounds.append(bounds); visited_costs.append(cost)\n",
    "            oracle_rewards.append(o_rewards); visited_rewards.append(env_rewards)\n",
    "            \n",
    "        self.agents, self.envs = agents, envs  \n",
    "        models = [agent.model for agent in agents]\n",
    "        training_results = {'models': models, 'envs': envs, 'rewards': final_rewards,\n",
    "                            'costs': final_costs, 'bounds': final_bounds, \n",
    "                            'eval_optims': final_optims, 'expl_optims': expl_optims}\n",
    "        exploration_results = {'agents': models, 'envs': envs, 'visited_states': visited_states,\n",
    "                               'bounds': visited_bounds, 'costs': visited_costs,\n",
    "                               'oracle_rewards': oracle_rewards, 'visited_rewards': visited_rewards}\n",
    "        return {'training': training_results, 'exploration': exploration_results}\n",
    "    \n",
    "    def _get_agent(self, model=None):\n",
    "        \"Instantiates the agent given an architecture `arch`.\"\n",
    "        if model is None: \n",
    "            in_dim = len(self.env.state)\n",
    "            out_dim = in_dim + 1\n",
    "            net = self.arch(in_dim, out_dim)\n",
    "        else: \n",
    "            self.arch = model.__class__\n",
    "            net = deepcopy(model)\n",
    "        return DQNAgent(net, **self.agent_kwargs)\n",
    "    \n",
    "    def _def_reset(self):\n",
    "        \"Defines the reset method.\"\n",
    "        if self.models is None: \n",
    "            self.reset = self._reset_from_scratch\n",
    "        else:                \n",
    "            self.n_agents = len(self.models)\n",
    "            self.reset = self._reset_from_models\n",
    "    \n",
    "    def _reset_from_scratch(self):\n",
    "        \"Restarts the agents and everinoments creating `n_agents` instances\"\n",
    "        self.agents = [self._get_agent() for _ in range(self.n_agents)]\n",
    "        self.envs = [deepcopy(self.env) for _ in range(self.n_agents)]\n",
    "        \n",
    "    def _reset_from_models(self):\n",
    "        \"Restarts the agents and environments from the pre-trained models\"\n",
    "        self.agents = [self._get_agent(model) for model in self.models]\n",
    "        self.envs = [deepcopy(self.env) for _ in range(len(self.models))]"
   ]
  },
  {
   "cell_type": "markdown",
   "metadata": {},
   "source": [
    "The `DQNTrainer` depends entirely on the `train_agent` function. This, in itself, relies on several inner functionalities shown below. "
   ]
  },
  {
   "cell_type": "code",
   "execution_count": null,
   "metadata": {},
   "outputs": [],
   "source": [
    "#| export    \n",
    "def train_agent(env, agent, episodes, time_steps=20, opt=None, best_ref=None,\n",
    "                evaluate=True, break_opt=False, train_id=None, ckp=20, save=True):\n",
    "    \"Trains an agent given an environment.\"\n",
    "    if train_id is None: train_id = np.random.randint(100, 1000)\n",
    "    if isinstance(episodes, int): episodes = (episodes,)\n",
    "    final_reward, final_costs, final_bounds, final_optimals, optimal_states = [], [], [], [], []\n",
    "    visited_states, visited_bounds, visited_costs, oracle_rewards, visited_rewards = [], [], [], [], []\n",
    "    ckp_dir = Path(\"../trained_models/checkpoints/\"); ckp_dir.mkdir(parents=True, exist_ok=True)\n",
    "    ckp_name = None\n",
    "    breaking = False\n",
    "                   \n",
    "    for e in tqdm(range(*episodes)):\n",
    "        state = deepcopy(env.reset())  # Reset environment at the beginning of each game\n",
    "        optims = []\n",
    "        for _ in range(time_steps):           \n",
    "            next_state, action, bound, cost, err = step(state, agent, env)   # perform step\n",
    "            agent.memorize(state, action, bound, cost, next_state)           # memorize outcome\n",
    "            state = deepcopy(next_state)                                               \n",
    "            \n",
    "            if opt is not None: optims.append(check_optim(opt, bound, cost)) # Track optims during exploration\n",
    "            if not array_in_list(state, visited_states): \n",
    "                visited_states.append(state)\n",
    "                visited_bounds.append(bound)\n",
    "                visited_costs.append(cost)\n",
    "                visited_rewards.append(get_reward(env, bound, cost))\n",
    "                if best_ref is not None:\n",
    "                    oracle_rewards.append(get_reward(env, bound, cost, best_ref=best_ref))\n",
    "                    \n",
    "            if break_opt and check_optim(opt, bound, cost): breaking = True; break\n",
    "\n",
    "        if len(agent.memory) >= agent.batch_size//5:   \n",
    "            agent.replay(env)                                            # Replay to learn                        \n",
    "            \n",
    "        if e%agent.target_update == 0:\n",
    "            agent.target_net.load_state_dict(agent.model.state_dict())   # Update target network\n",
    "            \n",
    "        if evaluate:\n",
    "            reward, bound, cost = evaluate_agent(agent, env, time_steps) # Evaluate agent\n",
    "            final_reward.append(reward) \n",
    "\n",
    "        final_costs.append(cost)\n",
    "        final_bounds.append(bound)\n",
    "        if opt is not None: \n",
    "            final_optimals.append(check_optim(opt, bound, cost))\n",
    "            optimal_states.append(np.mean(optims))\n",
    "            \n",
    "        # Save checkpoint    \n",
    "        if e%ckp == 0 or e==episodes[0]-1 or breaking: \n",
    "            if ckp_name is not None: (ckp_dir/ckp_name).unlink()\n",
    "            ckp_name = f\"{get_checkpoint_file_name(env.problem, env.budget, train_id, e)}.pt\"\n",
    "            checkpoint = {'model': agent.model, 'model_state_dict': agent.model.state_dict,\n",
    "                          'env': env, 'final_reward': final_reward, 'final_costs': final_costs,\n",
    "                          'final_bounds': final_bounds, 'eval_optims': final_optimals, \n",
    "                          'expl_optims': optimal_states, 'visited_states': visited_states,\n",
    "                          'visited_bounds': visited_bounds, 'visited_costs': visited_costs, \n",
    "                          'oracle_rewards': oracle_rewards, 'visited_rewards': visited_rewards}\n",
    "            torch.save(checkpoint, ckp_dir/ckp_name)\n",
    "            env.save_memory()\n",
    "            \n",
    "        if breaking: break\n",
    "        \n",
    "    # Once trained, save updated memory file and trained agent\n",
    "    env.save_memory()\n",
    "    if save: save_model(agent, env.problem, env.budget, train_id)\n",
    "        \n",
    "    return {'training': (agent, env, final_reward, final_costs, final_bounds, final_optimals, optimal_states),\n",
    "            'exploration': (visited_states, visited_bounds, visited_costs, oracle_rewards, visited_rewards)}\n",
    "\n",
    "DQNTrainer.train = delegates(to=train_agent)(DQNTrainer.train)"
   ]
  },
  {
   "cell_type": "markdown",
   "metadata": {},
   "source": [
    "To train an agent, provide the environment `env` containing the all the details about the problem that is to be solved and the `agent`, which is an initialized `DQNAgent`. The learning process is structured in a number of `episodes` of length `time_steps`. Every episode starts from the same initial state and the agent performs a trajectory through the state space of length `time_steps`. The agent gathers experience throughout the episode that then, once it has gathered enough, it is replayed to learn. The target network for double Q-learning is updated every `agent.target_update` learning episodes.\n",
    "\n",
    "If `evaluate` is set to `True`, the agent performs an evaluation episode after each training episode. With this, we can keep track of the convergence of the agent by looking at the final state of this episode. For the evaluation, there can be provided the optional `opt` and `best_ref`, which are used to check whether the agent is reaching the optimal configuration and the relative performance with respect to it. When only considering the exploration capabilities, `break_opt` is used to stop the learning process once the agent has encountered the optimal state. \n",
    "\n",
    "The optional inputs `train_id`, `ckp` and `save` are meant to handle data storage. With `train_id` we name the agent to save the training data in a consistent way. This is specially important when training agents in parallel, although `DQNTrainer` already handles this automatically. If no `train_id` is provided, the agent is assigned one at random. The training process is backed up every `ckp` training episodes and, if `save` is set to `True`, the resulting trained agent is saved at the end of the training process. \n",
    "\n",
    "`train_agent` uses the following functionalities to make the code more readable."
   ]
  },
  {
   "cell_type": "code",
   "execution_count": null,
   "metadata": {},
   "outputs": [],
   "source": [
    "#| export\n",
    "def step(state, agent, environment):\n",
    "    \"Take a step forward from state following the agent's policy.\"\n",
    "    actions = agent.act(state)\n",
    "    next_state, action, bound, cost, err = environment.step(actions)\n",
    "    return next_state, action, bound, cost, err\n",
    "\n",
    "def get_reward(environment, bound, cost, best_ref=None):\n",
    "    \"Returns the reward according to the environment.\"\n",
    "    return environment.reward_fun(T([bound]), T([cost]), best_ref=best_ref).item()\n",
    "\n",
    "def evaluate_agent(agent, environment, time_steps):\n",
    "    \"Evaluates the agent in deterministic policy. Returns final reward, bound and cost.\"\n",
    "    # Policy evaluation\n",
    "    eps = agent.epsilon\n",
    "    agent.epsilon = 0                       # Temporarily switch to greedy policy\n",
    "    state = deepcopy(environment.reset())\n",
    "    for _ in range(time_steps):\n",
    "        next_state, _, bound, cost, _ = step(state, agent, environment)    \n",
    "        state = deepcopy(next_state)    \n",
    "    # Get the final reward\n",
    "    reward = environment.reward_fun(T([bound]).to(agent.device), T([cost]).to(agent.device)).item()\n",
    "    agent.epsilon = eps\n",
    "    return reward, bound, cost\n",
    "\n",
    "def check_optim(opt, B, C):\n",
    "    \"Checks whether the current bound `B` and cost `C` match with the optimal ones.\"\n",
    "    return np.allclose((B, C), opt)"
   ]
  },
  {
   "cell_type": "code",
   "execution_count": null,
   "metadata": {},
   "outputs": [],
   "source": [
    "#| include: false\n",
    "from bounce.sdp import SdPEnergySolver\n",
    "from bounce.hamiltonian import XXHamiltonian, Chain1D\n",
    "from bounce.utils import plot_trainings, plot_exploration"
   ]
  },
  {
   "cell_type": "markdown",
   "metadata": {},
   "source": [
    "Let's see how the trainer works. As usual, we start by defining the environment."
   ]
  },
  {
   "cell_type": "code",
   "execution_count": null,
   "metadata": {},
   "outputs": [],
   "source": [
    "N = 6\n",
    "chain = Chain1D(N)\n",
    "b, j = 1, [i%3 for i in range(N)]\n",
    "H = XXHamiltonian(chain, b, j)\n",
    "budget = 300\n",
    "env = SdPEnvironment(H, SdPEnergySolver(), budget)"
   ]
  },
  {
   "cell_type": "markdown",
   "metadata": {},
   "source": [
    "Then, we define the training parameters. In the training process if we know the optimal set of constraints, we can provide an `opt` reference consisting of a tuple with the optimal bound and cost. Furthermore, with full knowledge of the problem, we can provide the `best_ref` in the form of an `np.array` that contains the optimal bound and cost (like the `opt`), as well as the highest cost with which the optimal bound can be obtained. "
   ]
  },
  {
   "cell_type": "code",
   "execution_count": null,
   "metadata": {},
   "outputs": [],
   "source": [
    "episodes = 50\n",
    "time_steps = 7\n",
    "opt = (-10.94427, 127)\n",
    "best_ref = np.array([*opt, 288])"
   ]
  },
  {
   "cell_type": "markdown",
   "metadata": {},
   "source": [
    "With these, we're all set to create our trainer and start training our agent! Even more, we can train a few agents in parallel."
   ]
  },
  {
   "cell_type": "code",
   "execution_count": null,
   "metadata": {},
   "outputs": [],
   "source": [
    "#| eval: false\n",
    "dqn = DQNTrainer(env, n_agents=2, n_jobs=2)\n",
    "results = dqn.train(episodes=episodes, time_steps=time_steps, opt=opt, best_ref=best_ref)"
   ]
  },
  {
   "cell_type": "markdown",
   "metadata": {},
   "source": [
    "The results are split into training and exploration results. The training results focus on the actual training process of the agents, storing information after every training episode. \n",
    "\n",
    "We can quickly visualize those with `plot_trainings` from `bounce.utils`. "
   ]
  },
  {
   "cell_type": "code",
   "execution_count": null,
   "metadata": {},
   "outputs": [
    {
     "data": {
      "image/png": "[encoded data removed]",
      "text/plain": [
       "<Figure size 720x360 with 2 Axes>"
      ]
     },
     "metadata": {},
     "output_type": "display_data"
    }
   ],
   "source": [
    "#| eval: false\n",
    "plot_trainings(results['training'])"
   ]
  },
  {
   "cell_type": "markdown",
   "metadata": {},
   "source": [
    "Here we see the reward and cost associated to the state at the end of an evaluation trajectory after every episode. We see that the agent needs some time to converge to a solution.\n",
    "\n",
    "Conversely, the exploration results track the exploration process through the state space. This way, they store relevant data only after the agent visits a new state. This allows us to see how the agent progresses in its quest to find the optimal relaxation. \n",
    "\n",
    "We can visualize those with `plot_exploration` from `bounce.utils`."
   ]
  },
  {
   "cell_type": "code",
   "execution_count": null,
   "metadata": {},
   "outputs": [
    {
     "data": {
      "image/png": "[encoded data removed]",
      "text/plain": [
       "<Figure size 720x360 with 2 Axes>"
      ]
     },
     "metadata": {},
     "output_type": "display_data"
    }
   ],
   "source": [
    "#| eval: false\n",
    "plot_exploration(results['exploration'])"
   ]
  },
  {
   "cell_type": "markdown",
   "metadata": {},
   "source": [
    "Here we see the best bound obtained by the agents at every time step, as well as how close the states are to the global optimum. Remember that finding the optimal relaxation not only involves finding the best possible bound, but doing so with the least amount of parameters.  "
   ]
  },
  {
   "cell_type": "markdown",
   "metadata": {},
   "source": [
    "# Breadth first search trainer"
   ]
  },
  {
   "cell_type": "code",
   "execution_count": null,
   "metadata": {},
   "outputs": [],
   "source": [
    "#| export\n",
    "def explore_brfs(env, agent, max_states, opt=None, best_ref=None, break_opt=False):\n",
    "    \"Space exploration with Breadth First Search (BrFS)\"\n",
    "    state_count = 0\n",
    "    breaking = False\n",
    "    visited_states, bounds, costs, rewards, optims = [], [], [], [], []\n",
    "    while state_count < max_states:\n",
    "        state_root, actions = agent.expand()\n",
    "        for a in actions: \n",
    "            env.state = deepcopy(state_root)\n",
    "            state_expand, bound, cost, err = env.perform_action(a)\n",
    "            if not agent.in_closed(state_expand) and not agent.in_open(state_expand):\n",
    "                if not err: \n",
    "                    agent.add_open(state_expand)\n",
    "                    state_count += 1\n",
    "                    # Track quantities\n",
    "                    visited_states.append(state_expand)\n",
    "                    bounds.append(bound)\n",
    "                    costs.append(cost)\n",
    "                    if opt is not None: optims.append(check_optim(opt, bound, cost))\n",
    "                    if best_ref is not None: \n",
    "                        rewards.append(get_reward(env, bound, cost, best_ref=best_ref))\n",
    "                    if break_opt and check_optim(opt, bound, cost): breaking = True; break\n",
    "        \n",
    "                else: \n",
    "                    agent.add_closed(state_expand)\n",
    "\n",
    "        if breaking or len(actions) is 0: break\n",
    "            \n",
    "    env.save_memory()\n",
    "    return agent, env, visited_states, bounds, costs, rewards, optims \n",
    "\n",
    "class BrFSTrainer:\n",
    "    def __init__(self, environment, n_agents=1, n_jobs=1):\n",
    "        self.env = environment\n",
    "        self.n_agents = n_agents\n",
    "        self.parallel = Parallel(n_jobs=n_jobs)\n",
    "        self.reset()\n",
    "    \n",
    "    @delegates(explore_brfs)\n",
    "    def train(self, max_states, **kwargs):\n",
    "        \"Performs `n_trains` in parallel.\"\n",
    "        self.reset() # provisional fix while parallel does not work\n",
    "        train_setups = zip(self.envs, self.agents)\n",
    "        p_explore = partial(explore_brfs, max_states=max_states, **kwargs)\n",
    "        results = self.parallel(delayed(p_explore)(env, agent)\n",
    "                                for k, (env, agent) in enumerate(train_setups))\n",
    "        return self._process_results(results) \n",
    "        \n",
    "    def reset(self):\n",
    "        \"Restarts the agents and everinoments creating `n_agents` instances\"\n",
    "        self.agents = [self._get_agent() for _ in range(self.n_agents)]\n",
    "        self.envs = [deepcopy(self.env) for _ in range(self.n_agents)]\n",
    "        \n",
    "    def _process_results(self, results):\n",
    "        \"Processes the results as they come out of the parallel\"\n",
    "        agents, envs, visited_states, bounds, cost, rewards, optims = [], [], [], [], [], [], []\n",
    "        for res in results:\n",
    "            agent, env, states, ener, par, rew, opts = res\n",
    "            agents.append(agent); envs.append(env); visited_states.append(states); \n",
    "            bounds.append(ener); cost.append(par); rewards.append(rew); optims.append(opts);   \n",
    "        \n",
    "        self.agents, self.envs = agents, envs\n",
    "        return {'agents': agents, 'envs': envs, 'visited_states': visited_states, \n",
    "                'bounds': bounds, 'costs': cost, 'oracle_rewards': rewards, 'optims': optims}\n",
    "        \n",
    "    def _get_agent(self):\n",
    "        \"Instantiates an agent.\"\n",
    "        return BrFSAgent(self.env.state)       "
   ]
  },
  {
   "cell_type": "markdown",
   "metadata": {},
   "source": [
    "Neither the breadth first search nor the Monte Carlo algorithms require any actual training. However, we use the \"trainers\" to explore the state space with them. Therefore, we only receive exploration results. "
   ]
  },
  {
   "cell_type": "code",
   "execution_count": null,
   "metadata": {},
   "outputs": [],
   "source": [
    "#| eval: false\n",
    "bfs = BrFSTrainer(env)\n",
    "results = bfs.train(150, opt=opt, best_ref=best_ref)"
   ]
  },
  {
   "cell_type": "code",
   "execution_count": null,
   "metadata": {},
   "outputs": [
    {
     "data": {
      "image/png": "[encoded data removed]",
      "text/plain": [
       "<Figure size 720x360 with 2 Axes>"
      ]
     },
     "metadata": {},
     "output_type": "display_data"
    }
   ],
   "source": [
    "#| eval: false\n",
    "plot_exploration(results)"
   ]
  },
  {
   "cell_type": "markdown",
   "metadata": {},
   "source": [
    "# Monte-Carlo trainer\n"
   ]
  },
  {
   "cell_type": "code",
   "execution_count": null,
   "metadata": {},
   "outputs": [],
   "source": [
    "#| export\n",
    "def explore_mc(env, agent, max_states, opt=None, best_ref=None, ckp=20, break_opt=False):\n",
    "    \"Space exploration with Monte-Carlo (MC)\"\n",
    "    visited_states, bounds, costs, oracle_rewards, visited_rewards, optims = [], [], [], [], [], []\n",
    "    breaking = False\n",
    "    # Initial state\n",
    "    state = env.reset()\n",
    "    bound1, cost1, _ = env.get_values()\n",
    "    for s in tqdm(range(max_states)):\n",
    "        state = deepcopy(state)       \n",
    "        next_state, action, bound2, cost2, err = step(state, agent, env)        \n",
    "        r1 = get_reward(env, bound1, cost1)\n",
    "        r2 = get_reward(env, bound2, cost2)\n",
    "        \n",
    "        if not array_in_list(next_state, visited_states):\n",
    "            if err: raise Exception(f\"Got an error for state {next_state}\")\n",
    "            visited_states.append(deepcopy(next_state))\n",
    "            bounds.append(bound2)\n",
    "            costs.append(cost2)\n",
    "            visited_rewards.append(r2)\n",
    "            if opt is not None: optims.append(check_optim(opt, bound2, cost2))\n",
    "            if best_ref is not None: \n",
    "                oracle_rewards.append(get_reward(env, bound2, cost2, best_ref=best_ref))\n",
    "            if break_opt and check_optim(opt, bound2, cost2): breaking = True; break\n",
    "        if breaking: break\n",
    "                \n",
    "        if agent.accept(r1, r2):\n",
    "            state = deepcopy(next_state)\n",
    "            bound1, cost1 = deepcopy(bound2), deepcopy(cost2)\n",
    "        else: \n",
    "            env.state = deepcopy(state)\n",
    "            \n",
    "        if s%ckp == 0: env.save_memory()\n",
    "                          \n",
    "    env.save_memory()\n",
    "    return agent, env, visited_states, bounds, costs, oracle_rewards, visited_rewards, optims\n",
    "\n",
    "class MCTrainer:\n",
    "    @delegates(MCAgent.__init__)\n",
    "    def __init__(self, environment, n_agents=1, n_jobs=1, **kwargs):\n",
    "        self.env = environment\n",
    "        self.n_agents = n_agents\n",
    "        self.parallel = Parallel(n_jobs=n_jobs)\n",
    "        self.agent_kwargs = kwargs\n",
    "        self.reset()\n",
    "        \n",
    "    @delegates(explore_mc)\n",
    "    def train(self, max_states, **kwargs):\n",
    "        \"Performs `n_trains` in parallel.\"\n",
    "        train_setups = zip(self.envs, self.agents)\n",
    "        p_explore = partial(explore_mc, max_states=max_states, **kwargs)\n",
    "        results = self.parallel(delayed(p_explore)(env, agent) \n",
    "                                for k, (env, agent) in enumerate(train_setups))\n",
    "        return self._process_results(results) \n",
    "        \n",
    "    def reset(self):\n",
    "        \"Restarts the agents and everinoments creating `n_agents` instances\"\n",
    "        self.agents = [self._get_agent() for _ in range(self.n_agents)]\n",
    "        self.envs = [deepcopy(self.env) for _ in range(self.n_agents)]\n",
    "        \n",
    "    def _process_results(self, results):\n",
    "        \"Processes the results as they come out of the parallel\"\n",
    "        agents, envs, visited_states, visited_bounds, visited_costs = [], [], [], [], []\n",
    "        oracle_rewards, visited_rewards, optims = [], [], []\n",
    "        for result in results:\n",
    "            agent, env, states, bounds, cost, o_rewards, env_rewards, opts = result\n",
    "            agents.append(agent); envs.append(env); visited_states.append(states); \n",
    "            visited_bounds.append(bounds); visited_costs.append(cost)\n",
    "            oracle_rewards.append(o_rewards); visited_rewards.append(env_rewards); optims.append(opts)\n",
    "            \n",
    "        self.agents, self.envs = agents, envs\n",
    "        return {'agents': agents, 'envs': envs, 'visited_states': visited_states, \n",
    "                'bounds': visited_bounds, 'costs': visited_costs, 'oracle_rewards': oracle_rewards, \n",
    "                'visited_rewards': visited_rewards, 'expl_optims': optims}\n",
    "\n",
    "    def _get_agent(self):\n",
    "        \"Instantiates an agent.\"\n",
    "        return MCAgent(**self.agent_kwargs)"
   ]
  },
  {
   "cell_type": "code",
   "execution_count": null,
   "metadata": {},
   "outputs": [],
   "source": [
    "#| eval: false\n",
    "bfs = MCTrainer(env, n_agents=4, n_jobs=2)\n",
    "results = bfs.train(350, opt=opt, best_ref=best_ref)"
   ]
  },
  {
   "cell_type": "code",
   "execution_count": null,
   "metadata": {},
   "outputs": [
    {
     "data": {
      "image/png": "[encoded data removed]",
      "text/plain": [
       "<Figure size 720x360 with 2 Axes>"
      ]
     },
     "metadata": {},
     "output_type": "display_data"
    }
   ],
   "source": [
    "#| eval: false\n",
    "plot_exploration(results)"
   ]
  },
  {
   "cell_type": "markdown",
   "metadata": {},
   "source": [
    "#| hide\n",
    "# Export-"
   ]
  },
  {
   "cell_type": "code",
   "execution_count": null,
   "metadata": {},
   "outputs": [
    {
     "name": "stdout",
     "output_type": "stream",
     "text": [
      "Converted 00_environment.ipynb.\n",
      "Converted 01_agents.ipynb.\n",
      "Converted 02_budget_profiles.ipynb.\n",
      "Converted 03_hamiltonian.ipynb.\n",
      "Converted 04_training.ipynb.\n",
      "Converted 05_utils.ipynb.\n",
      "Converted 06_sdp.ipynb.\n",
      "Converted index.ipynb.\n"
     ]
    }
   ],
   "source": [
    "#| include: false\n",
    "from nbdev import nbdev_export\n",
    "nbdev_export()"
   ]
  }
 ],
 "metadata": {
  "kernelspec": {
   "display_name": "Python 3 (ipykernel)",
   "language": "python",
   "name": "python3"
  }
 },
 "nbformat": 4,
 "nbformat_minor": 4
}
