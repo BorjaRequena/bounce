{
 "cells": [
  {
   "cell_type": "code",
   "execution_count": null,
   "metadata": {},
   "outputs": [],
   "source": [
    "#export\n",
    "import re\n",
    "import picos\n",
    "import numpy as np\n",
    "import networkx as nx\n",
    "import matplotlib.pyplot as plt\n",
    "from copy import copy, deepcopy\n",
    "from collections.abc import Iterable\n",
    "\n",
    "from bounce.utils import arrayfy, array_in_list"
   ]
  },
  {
   "cell_type": "code",
   "execution_count": null,
   "metadata": {},
   "outputs": [],
   "source": [
    "# default_exp hamiltonian"
   ]
  },
  {
   "cell_type": "code",
   "execution_count": null,
   "metadata": {},
   "outputs": [],
   "source": [
    "#hide\n",
    "%load_ext autoreload\n",
    "%autoreload 2\n",
    "%matplotlib inline"
   ]
  },
  {
   "cell_type": "markdown",
   "metadata": {},
   "source": [
    "# Hamiltonian\n",
    "\n",
    "> The hamiltonian class contains all the information defining the physical problem.\n",
    "\n",
    "The Hamiltonian contains all the information about the problem. In physical systems it contains both the information about the topology, e.g., underlying `Graph`, and the interactions between parties. With the Hamiltonian, we build the semidefinite program (SdP) that we solve to obtain the bounds and costs (reward) for the agents. \n",
    "\n",
    "We call these classes Hamiltonians because we are bounding the ground state energy. However, this can be any object defining a problem in an appropiate way for the respective SdP solver.  "
   ]
  },
  {
   "cell_type": "markdown",
   "metadata": {},
   "source": [
    "## Graph"
   ]
  },
  {
   "cell_type": "code",
   "execution_count": null,
   "metadata": {},
   "outputs": [],
   "source": [
    "#export\n",
    "class Graph:\n",
    "    def __init__(self, nodes, edges):\n",
    "        self.nodes, self.edges = nodes, edges\n",
    "        \n",
    "    @property\n",
    "    def n_nodes(self): return len(self.nodes)\n",
    "    \n",
    "    @property\n",
    "    def n_edges(self): return len(self.edges)"
   ]
  },
  {
   "cell_type": "markdown",
   "metadata": {},
   "source": [
    "We define the structure of the problem with a `Graph`, upon which we introduce the interactions. In order to create a `Graph`, we need to provide a list of nodes and edges, which are the links between nodes. "
   ]
  },
  {
   "cell_type": "code",
   "execution_count": null,
   "metadata": {},
   "outputs": [],
   "source": [
    "nodes, edges = np.array([0, 1, 2]), [np.array([0, 1]), np.array([0, 2])]\n",
    "g = Graph(nodes, edges)"
   ]
  },
  {
   "cell_type": "code",
   "execution_count": null,
   "metadata": {},
   "outputs": [],
   "source": [
    "assert (g.nodes == nodes).all()\n",
    "assert np.all([e_graph == e for e_graph, e in zip(g.edges, edges)])"
   ]
  },
  {
   "cell_type": "markdown",
   "metadata": {},
   "source": [
    "Furthermore, `Graph`s provide some useful properties that provide useful information about the graph. "
   ]
  },
  {
   "cell_type": "code",
   "execution_count": null,
   "metadata": {},
   "outputs": [],
   "source": [
    "assert g.n_nodes == len(nodes)\n",
    "assert g.n_edges == len(edges)"
   ]
  },
  {
   "cell_type": "markdown",
   "metadata": {},
   "source": [
    "We have predefined some common graph structures in typical physical systems, such as a one-dimensional chain or a two-dimensional square lattice, both with or without periodic boundary conditions (denoted as `pbc`). However, notice that implementing graphs allows us to tackle problems with arbitrary dimensions and connectivities. "
   ]
  },
  {
   "cell_type": "code",
   "execution_count": null,
   "metadata": {},
   "outputs": [],
   "source": [
    "#export\n",
    "class Chain1D(Graph):\n",
    "    def __init__(self, N, pbc=True):\n",
    "        \"Create a one-dimensional chain of `N` nodes and periodic boundary conditions `pbc`.\"\n",
    "        nodes = np.arange(N)\n",
    "        edges = [np.sort([i, (i+1)%N]) for i in range(N if pbc else N-1)]\n",
    "        super().__init__(nodes, edges)\n",
    "        self.layout = nx.circular_layout"
   ]
  },
  {
   "cell_type": "code",
   "execution_count": null,
   "metadata": {},
   "outputs": [
    {
     "data": {
      "text/plain": [
       "(array([0, 1, 2, 3, 4, 5]),\n",
       " [array([0, 1]),\n",
       "  array([1, 2]),\n",
       "  array([2, 3]),\n",
       "  array([3, 4]),\n",
       "  array([4, 5]),\n",
       "  array([0, 5])])"
      ]
     },
     "execution_count": null,
     "metadata": {},
     "output_type": "execute_result"
    }
   ],
   "source": [
    "chain = Chain1D(6)\n",
    "chain.nodes, chain.edges"
   ]
  },
  {
   "cell_type": "code",
   "execution_count": null,
   "metadata": {},
   "outputs": [],
   "source": [
    "assert (chain.nodes == np.arange(6)).all()\n",
    "edges = [np.sort([i, (i+1)%6]) for i in range(6)]\n",
    "assert np.all([e_chain == e for e_chain, e in zip(chain.edges, edges)])"
   ]
  },
  {
   "cell_type": "code",
   "execution_count": null,
   "metadata": {},
   "outputs": [],
   "source": [
    "#export\n",
    "class SquareLattice(Graph):\n",
    "    def __init__(self, N, M, pbc=True):\n",
    "        \"Create a NxM square lattice with periodic boundary conditions `pbc`.\"\n",
    "        self.n_rows, self.n_cols, self.pbc = N, M, pbc\n",
    "        nodes = np.arange(N*M)\n",
    "        edges = []\n",
    "        for i in range(N):\n",
    "            for j in range(M):\n",
    "                n = i*M + j\n",
    "                # Horizontal edges\n",
    "                if pbc or j != M-1: \n",
    "                    n_h = i*M + (j+1)%M\n",
    "                    edge = np.sort([n, n_h])\n",
    "                    if not array_in_list(edge, edges): edges.append(edge)\n",
    "                # Vertical edges\n",
    "                if pbc or i != N-1:\n",
    "                    n_v = ((i+1)%N)*M + j\n",
    "                    edge = np.sort([n, n_v])\n",
    "                    if not array_in_list(edge, edges): edges.append(edge)           \n",
    "        super().__init__(nodes, edges)\n",
    "    \n",
    "    def layout(self, G):\n",
    "        \"Returns plot positions for a `networkx.Graph` depicting the lattice.\"\n",
    "        pos_x = np.linspace(-1, 1, self.n_cols)\n",
    "        pos_y = np.linspace(1, -1, self.n_rows)\n",
    "        if self.pbc:\n",
    "            dy, dx = 1/self.n_rows, 1/self.n_cols\n",
    "            pos = {}\n",
    "            for n in G.nodes:\n",
    "                row, col = n//self.n_cols, n%self.n_cols\n",
    "                x, y = pos_x[col], pos_y[row]\n",
    "                left, right = col == 0, col == self.n_cols - 1\n",
    "                top, bottom = row == 0, row == self.n_rows - 1 \n",
    "                if not left and not right: y -= dy\n",
    "                if not top and not bottom:\n",
    "                    if left:    x -= dx\n",
    "                    elif right: x += dx\n",
    "                pos[n] = np.array([x, y])\n",
    "            return pos\n",
    "        else: \n",
    "            return {n: np.array([pos_x[n%self.n_cols], pos_y[n//self.n_cols]]) for n in G.nodes}"
   ]
  },
  {
   "cell_type": "code",
   "execution_count": null,
   "metadata": {},
   "outputs": [],
   "source": [
    "lattice = SquareLattice(3, 4, pbc=False)"
   ]
  },
  {
   "cell_type": "code",
   "execution_count": null,
   "metadata": {},
   "outputs": [
    {
     "data": {
      "text/plain": [
       "[array([0, 1]),\n",
       " array([0, 4]),\n",
       " array([1, 2]),\n",
       " array([1, 5]),\n",
       " array([2, 3]),\n",
       " array([2, 6]),\n",
       " array([3, 7]),\n",
       " array([4, 5]),\n",
       " array([4, 8]),\n",
       " array([5, 6]),\n",
       " array([5, 9]),\n",
       " array([6, 7]),\n",
       " array([ 6, 10]),\n",
       " array([ 7, 11]),\n",
       " array([8, 9]),\n",
       " array([ 9, 10]),\n",
       " array([10, 11])]"
      ]
     },
     "execution_count": null,
     "metadata": {},
     "output_type": "execute_result"
    }
   ],
   "source": [
    "lattice.edges"
   ]
  },
  {
   "cell_type": "markdown",
   "metadata": {},
   "source": [
    "## Hamiltonian"
   ]
  },
  {
   "cell_type": "code",
   "execution_count": null,
   "metadata": {},
   "outputs": [],
   "source": [
    "#export\n",
    "class Hamiltonian:\n",
    "    \n",
    "    x = picos.Constant('x', [[0, 1], [1, 0]])\n",
    "    y = picos.Constant('y', [[0, -1j], [1j, 0]])\n",
    "    z = picos.Constant('z', [[1, 0], [0, -1]])\n",
    "    Id = picos.Constant('Id', [[1, 0], [0, 1]])\n",
    "    \n",
    "    def __init__(self, graph, interactions):\n",
    "        \"Create a Hamiltonian over a graph with defined interactions.\"\n",
    "        self.graph, self.interactions = graph, interactions\n",
    "        self.name = 'base'\n",
    "        \n",
    "    def to_sdp(self):\n",
    "        \"Outputs the necessary information for the `SdPSolver`.\"\n",
    "        return self.interactions\n",
    "    \n",
    "    def draw(self, figsize=(8,6), cmap=plt.cm.viridis):\n",
    "        \"Conceptual drawing of the system.\"\n",
    "        G = nx.Graph()            \n",
    "        G.add_nodes_from([(node.item(), {'w': self._get_weight(w)}) \n",
    "                          for node, w in self.interactions if len(node) == 1])\n",
    "        G.add_edges_from([(*edge.tolist(), {'w': self._get_weight(w)}) \n",
    "                          for edge, w in self.interactions if len(edge) == 2])\n",
    "        \n",
    "        try: \n",
    "            pos = self.graph.layout(G)\n",
    "        except:\n",
    "            pos = nx.kamada_kawai_layout(G)\n",
    "        plt.figure()\n",
    "        node_weights = [d['w'] for _, d in G.nodes(data=True)]\n",
    "        edge_weights = [d['w'] for _, _, d in G.edges(data=True)]\n",
    "        nx.draw_networkx_nodes(G, pos, node_color=node_weights, vmin=min(node_weights),\n",
    "                               vmax=max(node_weights), cmap=cmap)\n",
    "        for u, v, w in G.edges(data=True):\n",
    "            nx.draw_networkx_edges(G, pos, width=4, edgelist=[(u, v)],\n",
    "                                   alpha=np.abs(w['w'])/max(np.abs(edge_weights)))\n",
    "        nx.draw_networkx_labels(G, pos, font_color='w');\n",
    "        \n",
    "    @staticmethod\n",
    "    def _get_weight(expression):\n",
    "        \"Extracts the real or complex weight from a `picos.ComplexAffineExpression`.\"\n",
    "        try:    \n",
    "            string = re.findall('\\d+\\.?\\d*[j]?', expression.string)[0]\n",
    "            return complex(string) if string[-1] == 'j' else float(string)\n",
    "        except: return 1.\n",
    "        \n",
    "    def __deepcopy__(self, memo):\n",
    "        \"\"\"Workaround to deepcopy Hamiltonians as there is an issue deepcopying `picos.Constant`.\n",
    "        We deepcopy everything and only shallow copy the `Hamiltonian.interactions`. This does not\n",
    "        afect our pipeline, as we not modify any parameters, we'd rather make a new `Hamiltonian`,\n",
    "        but we do need to deepcopy environments containing Hamiltonians.\"\"\"\n",
    "        cls = self.__class__\n",
    "        new = cls.__new__(cls)\n",
    "        for k, v in self.__dict__.items():\n",
    "            setattr(new, k, deepcopy(v) if k != 'interactions' else copy(v))\n",
    "        return new"
   ]
  },
  {
   "cell_type": "markdown",
   "metadata": {},
   "source": [
    "Once we have laid out the topology of the problem, we can define the `interactions` happening in the system. These, together with the underlying `Graph`, define a `Hamiltonian`. The `interactions` come in the form of a list of tuples indicating the support and the interaction term `[(support, term)]`. We describe the terms using Pauli matrices $\\sigma^x, \\sigma^y, \\sigma^z$ and the identity. Given that these are the variables that the `SDPSolver` uses to instantiate and solve the optimization problem, we need to write them in terms of `picos` varibales. We provide the variables `x`, `y`, `z`, `Id` within the `Hamiltonian` class to ease the process of defining Hamiltonians for new problems.    \n",
    "\n",
    "For instance, in the case of non-interacting qubits with a transverse field, described by $H = \\sum_i\\sigma^x_i$, the interactions would be `[(0, x), (1, x), ...]`. On an Ising-like Hamiltonian, such as $H=J\\sum_i\\sigma^z_i\\sigma^z_{i+1} + B\\sum_i\\sigma^x_i$, we have to account for the tensor product $\\sigma^z_i\\sigma^z_{i+1}$, which in the picos library is performed with the `@` operator. Hence, we would define the interactions as `[(0, B*x), (1, B*x), ..., ([0, 1], J*z@z), ([1, 2], J*z@z), ...]`. In fact, the supports should be `np.ndarrays`, e.g., `np.array([0, 1])`, which we take from the `Graph.edges`, and we should access the Pauli variables from the `Hamiltonian` with `self`, e.g., `self.x`. \n",
    "\n",
    "Finally, in order to keep a consistent file naming, we provide the Hamiltonians with a `name` property that is a string naming the model. We show some examples below.  \n",
    "\n",
    "### Ising model\n",
    "Let's see how to implement a transverse field Ising Hamiltonian and instantiate it in the onedimensional chain. "
   ]
  },
  {
   "cell_type": "code",
   "execution_count": null,
   "metadata": {},
   "outputs": [],
   "source": [
    "#export\n",
    "class LocalHamiltonian(Hamiltonian):\n",
    "    def __init__(self, graph, interactions, *aux_args):\n",
    "        \"\"\"Local Hamiltonian with two-body interactions. This class defines a structure for 2-local\n",
    "        Hamiltonians of the form cls(graph, one_body_amplitudes, two_body_amplitudes, *aux_args).\n",
    "        This allows us to serialize Hamiltonians with the __reduce__ method, which we do not want\n",
    "        to explicitly define for every new Hamiltonian. Let us know if you find any better\n",
    "        solution to this.\"\"\"\n",
    "        super().__init__(graph, interactions)\n",
    "        self.aux_args = aux_args\n",
    "        \n",
    "    def __reduce__(self):\n",
    "        aux_args = self.aux_args if hasattr(self, 'aux_args') else []\n",
    "        one_body = [self._get_weight(term) for edge, term in self.interactions if len(edge) == 1]\n",
    "        two_body = [self._get_weight(term) for edge, term in self.interactions if len(edge) == 2]\n",
    "        return (self.__class__, (self.graph, one_body, two_body, *aux_args))"
   ]
  },
  {
   "cell_type": "code",
   "execution_count": null,
   "metadata": {},
   "outputs": [],
   "source": [
    "#exports\n",
    "class IsingHamiltonian(LocalHamiltonian):\n",
    "    def __init__(self, graph, field, coupling):\n",
    "        field, coupling = arrayfy(field, graph.n_nodes), arrayfy(coupling, graph.n_edges)\n",
    "        one_body_terms = [(np.array([n]), field[n]*self.x) for n in graph.nodes]\n",
    "        two_body_terms = [(edge, coupling[e]*self.z@self.z) for e, edge in enumerate(graph.edges)]\n",
    "        interactions = one_body_terms + two_body_terms\n",
    "        super().__init__(graph, interactions)\n",
    "        self.name = 'ising'        "
   ]
  },
  {
   "cell_type": "code",
   "execution_count": null,
   "metadata": {},
   "outputs": [],
   "source": [
    "b, j = 0.75, 2.5\n",
    "H_ising = IsingHamiltonian(chain, b, j)"
   ]
  },
  {
   "cell_type": "code",
   "execution_count": null,
   "metadata": {},
   "outputs": [
    {
     "data": {
      "text/plain": [
       "[(array([0]), <2×2 Real Constant: 0.75·x>),\n",
       " (array([1]), <2×2 Real Constant: 0.75·x>),\n",
       " (array([2]), <2×2 Real Constant: 0.75·x>),\n",
       " (array([3]), <2×2 Real Constant: 0.75·x>),\n",
       " (array([4]), <2×2 Real Constant: 0.75·x>),\n",
       " (array([5]), <2×2 Real Constant: 0.75·x>),\n",
       " (array([0, 1]), <4×4 Real Constant: 2.5·z⊗z>),\n",
       " (array([1, 2]), <4×4 Real Constant: 2.5·z⊗z>),\n",
       " (array([2, 3]), <4×4 Real Constant: 2.5·z⊗z>),\n",
       " (array([3, 4]), <4×4 Real Constant: 2.5·z⊗z>),\n",
       " (array([4, 5]), <4×4 Real Constant: 2.5·z⊗z>),\n",
       " (array([0, 5]), <4×4 Real Constant: 2.5·z⊗z>)]"
      ]
     },
     "execution_count": null,
     "metadata": {},
     "output_type": "execute_result"
    }
   ],
   "source": [
    "H_ising.interactions"
   ]
  },
  {
   "cell_type": "code",
   "execution_count": null,
   "metadata": {},
   "outputs": [
    {
     "data": {
      "text/plain": [
       "[(array([0]), <2×2 Real Constant: 0.75·x>),\n",
       " (array([1]), <2×2 Real Constant: 0.75·x>),\n",
       " (array([2]), <2×2 Real Constant: 0.75·x>),\n",
       " (array([3]), <2×2 Real Constant: 0.75·x>),\n",
       " (array([4]), <2×2 Real Constant: 0.75·x>),\n",
       " (array([5]), <2×2 Real Constant: 0.75·x>),\n",
       " (array([0, 1]), <4×4 Real Constant: 2.5·z⊗z>),\n",
       " (array([1, 2]), <4×4 Real Constant: 2.5·z⊗z>),\n",
       " (array([2, 3]), <4×4 Real Constant: 2.5·z⊗z>),\n",
       " (array([3, 4]), <4×4 Real Constant: 2.5·z⊗z>),\n",
       " (array([4, 5]), <4×4 Real Constant: 2.5·z⊗z>),\n",
       " (array([0, 5]), <4×4 Real Constant: 2.5·z⊗z>)]"
      ]
     },
     "execution_count": null,
     "metadata": {},
     "output_type": "execute_result"
    }
   ],
   "source": [
    "H_ising.to_sdp() "
   ]
  },
  {
   "cell_type": "code",
   "execution_count": null,
   "metadata": {},
   "outputs": [],
   "source": [
    "assert H_ising.to_sdp() == H_ising.interactions"
   ]
  },
  {
   "cell_type": "markdown",
   "metadata": {},
   "source": [
    "### Visualization\n",
    "Furthermore, we have provided the `Hamiltonian` class with a `draw` method. This provides us with a pictorial representation of the Hamiltonian. We represent the interaction strength with the edge transparency, and the on-site terms with the node colors. The scales are between the smallest to the largest value, so they provide an idea of the relative strengths. \n",
    "\n",
    "We have given the different graphs a `layout` method that determines the position of the nodes in the plot. You do not need to define a specific layout in your own graphs, as the function will use the `networkx.kamada_kawai_layout` by default (mainly because the name is cool). For example, we have given a circular layout to the `Chain1D` using the predefined with `networkx.circular_layout`.\n",
    "\n",
    "Let's see how it looks in our example Ising Hamiltonian."
   ]
  },
  {
   "cell_type": "code",
   "execution_count": null,
   "metadata": {},
   "outputs": [
    {
     "data": {
      "image/png": "[encoded data removed]",
      "text/plain": [
       "<Figure size 432x288 with 1 Axes>"
      ]
     },
     "metadata": {},
     "output_type": "display_data"
    }
   ],
   "source": [
    "H_ising.draw()"
   ]
  },
  {
   "cell_type": "markdown",
   "metadata": {},
   "source": [
    "In the case of a lattice, we have created our own custom a square-lattice-like pattern which adapts to periodic boundary conditions. Let's first see how it looks with inhomogeneous parameters and without periodic boundary conditions."
   ]
  },
  {
   "cell_type": "code",
   "execution_count": null,
   "metadata": {},
   "outputs": [],
   "source": [
    "b, j = [0., 0.5, 1.], [0., 0.75, 1.5]\n",
    "H_ising = IsingHamiltonian(lattice, b, j)"
   ]
  },
  {
   "cell_type": "code",
   "execution_count": null,
   "metadata": {},
   "outputs": [
    {
     "data": {
      "image/png": "[encoded data removed]",
      "text/plain": [
       "<Figure size 432x288 with 1 Axes>"
      ]
     },
     "metadata": {},
     "output_type": "display_data"
    }
   ],
   "source": [
    "H_ising.draw()"
   ]
  },
  {
   "cell_type": "markdown",
   "metadata": {},
   "source": [
    "> Note: Notice here that we do not explicitly define the values of the interacting terms for every node and edge. The `Hamiltonian` takes care to replicate the pattern along the nodes and edges by order. The behaviour is consistent, although we do not recommend using this property unless you are confident it works as expected. It is mainly intended to perform simple patterns like homogeneous Hamiltonians, such as the one we defined before, or alternating exchange in one dimension.\n",
    "In case you want to exploit it, we recommend paying close attention to the edge ordering. In the `Chain1D` the edges go in increasing order. In the `SquareLattice`, we sequentially parse the lattice rows from left to right, and top to bottom. We start at the first node and create two edges: the horizontal towards the right and the vertical downwards. This takes into account periodic boundary conditions.\n",
    "\n",
    "Let's see now a lattice with periodic boundary conditions! (We're proud of this plotting :3) "
   ]
  },
  {
   "cell_type": "code",
   "execution_count": null,
   "metadata": {},
   "outputs": [
    {
     "data": {
      "image/png": "[encoded data removed]",
      "text/plain": [
       "<Figure size 432x288 with 1 Axes>"
      ]
     },
     "metadata": {},
     "output_type": "display_data"
    }
   ],
   "source": [
    "lattice = SquareLattice(3, 4)\n",
    "b, j = [0., 0.5, 1.], [0.1, 0.75, 1.5]\n",
    "H_ising = IsingHamiltonian(lattice, b, j)\n",
    "H_ising.draw()"
   ]
  },
  {
   "cell_type": "markdown",
   "metadata": {},
   "source": [
    "### Heisenberg models\n",
    "\n",
    "In the presented work, we study a special case of the Heisenberg XY model. The quantum Heisenberg XY model is given by $$H=\\sum_{i} J_{i}((1+\\gamma)\\sigma_{i}^x \\sigma_{i+1}^x + (1-\\gamma)\\sigma_{i}^y \\sigma_{i+1}^y) + \\sum_{i}B_{i}\\sigma_{i}^z,$$ \n",
    "where $J_i$ is the pair-wise antiferromagnetic exchange and $B_i$ is the strength of the on-site magnetic field. The parameter $\\gamma$ induces an anisotropic interaction between directions $x$ and $y$. In the limit of $\\gamma=0$, we have the so-called XX model $$H=\\sum_{i} J_{i}(\\sigma_{i}^x \\sigma_{i+1}^x + \\sigma_{i}^y \\sigma_{i+1}^y) + \\sum_{i}B_{i}\\sigma_{i}^z\\,,$$ whose results we report on the work [Certificates of quantum many-body properties assisted by machine learning](https://arxiv.org/abs/2103.03830)."
   ]
  },
  {
   "cell_type": "code",
   "execution_count": null,
   "metadata": {},
   "outputs": [],
   "source": [
    "#export\n",
    "class XYHamiltonian(LocalHamiltonian):\n",
    "    def __init__(self, graph, linear, quadratic, gamma):\n",
    "        linear, quadratic = arrayfy(linear, graph.n_nodes), arrayfy(quadratic, graph.n_edges)\n",
    "        one_body_terms = [(np.array([n]), linear[n]*self.z) for n in graph.nodes]\n",
    "        two_body_terms = [(edge, self._2body(quadratic[e], gamma))\n",
    "                          for e, edge in enumerate(graph.edges)]\n",
    "        interactions = one_body_terms + two_body_terms\n",
    "        super().__init__(graph, interactions, gamma)\n",
    "        self.name = 'xy'\n",
    "        \n",
    "    def _2body(self, amplitude, gamma):\n",
    "        return amplitude*((1+gamma)*self.x@self.x + (1-gamma)*self.y@self.y)\n",
    "\n",
    "class XXHamiltonian(XYHamiltonian):\n",
    "    def __init__(self, graph, linear, quadratic):\n",
    "        super().__init__(graph, linear, quadratic, gamma=0.)\n",
    "        self.name = 'xx'\n",
    "        self.aux_args = []"
   ]
  },
  {
   "cell_type": "code",
   "execution_count": null,
   "metadata": {},
   "outputs": [
    {
     "data": {
      "text/plain": [
       "[(array([0]), <2×2 Real Constant: 0.5·z>),\n",
       " (array([1]), <2×2 Real Constant: 0.5·z>),\n",
       " (array([2]), <2×2 Real Constant: 0.5·z>),\n",
       " (array([3]), <2×2 Real Constant: 0.5·z>),\n",
       " (array([4]), <2×2 Real Constant: 0.5·z>),\n",
       " (array([5]), <2×2 Real Constant: 0.5·z>),\n",
       " (array([0, 1]), <4×4 Complex Constant: 1.2·x⊗x + 0.8·y⊗y>),\n",
       " (array([1, 2]), <4×4 Complex Constant: 1.2·x⊗x + 0.8·y⊗y>),\n",
       " (array([2, 3]), <4×4 Complex Constant: 1.2·x⊗x + 0.8·y⊗y>),\n",
       " (array([3, 4]), <4×4 Complex Constant: 1.2·x⊗x + 0.8·y⊗y>),\n",
       " (array([4, 5]), <4×4 Complex Constant: 1.2·x⊗x + 0.8·y⊗y>),\n",
       " (array([0, 5]), <4×4 Complex Constant: 1.2·x⊗x + 0.8·y⊗y>)]"
      ]
     },
     "execution_count": null,
     "metadata": {},
     "output_type": "execute_result"
    }
   ],
   "source": [
    "xy = XYHamiltonian(chain, 0.5, 1., 0.2)\n",
    "xy.interactions"
   ]
  },
  {
   "cell_type": "code",
   "execution_count": null,
   "metadata": {},
   "outputs": [
    {
     "data": {
      "text/plain": [
       "[(array([0]), <2×2 Real Constant: 0.5·z>),\n",
       " (array([1]), <2×2 Real Constant: 0.5·z>),\n",
       " (array([2]), <2×2 Real Constant: 0.5·z>),\n",
       " (array([3]), <2×2 Real Constant: 0.5·z>),\n",
       " (array([4]), <2×2 Real Constant: 0.5·z>),\n",
       " (array([5]), <2×2 Real Constant: 0.5·z>),\n",
       " (array([0, 1]), <4×4 Complex Constant: x⊗x + y⊗y>),\n",
       " (array([1, 2]), <4×4 Complex Constant: x⊗x + y⊗y>),\n",
       " (array([2, 3]), <4×4 Complex Constant: x⊗x + y⊗y>),\n",
       " (array([3, 4]), <4×4 Complex Constant: x⊗x + y⊗y>),\n",
       " (array([4, 5]), <4×4 Complex Constant: x⊗x + y⊗y>),\n",
       " (array([0, 5]), <4×4 Complex Constant: x⊗x + y⊗y>)]"
      ]
     },
     "execution_count": null,
     "metadata": {},
     "output_type": "execute_result"
    }
   ],
   "source": [
    "xx = XXHamiltonian(chain, 0.5, 1.)\n",
    "xx.interactions"
   ]
  },
  {
   "cell_type": "markdown",
   "metadata": {},
   "source": [
    "For completeness, we provide an additional example of the Heisenberg Hamiltonian including interaction in the $\\sigma^z$ direction $$H=\\sum_i J_i(\\sigma_{i}^x\\sigma_{i+1}^x + \\sigma_{i}^y\\sigma_{i+1}^y + \\sigma_{i}^z\\sigma_{i+1}^z) + \\sum_i B_i\\sigma_i^z$$\n",
    "This model, with $B_i=0 \\ \\forall i$, is used in [[1]](https://iopscience.iop.org/article/10.1088/1742-6596/1163/1/012057). See the <a href=\"https://borjarequena.github.io/BOUNCE/sdp.html\">SdP docs</a> for further details."
   ]
  },
  {
   "cell_type": "code",
   "execution_count": null,
   "metadata": {},
   "outputs": [],
   "source": [
    "#export \n",
    "class XYZHamiltonian(LocalHamiltonian):\n",
    "    def __init__(self, graph, linear, quadratic):\n",
    "        linear, quadratic = arrayfy(linear, graph.n_nodes), arrayfy(quadratic, graph.n_edges)\n",
    "        one_body_terms = [(np.array([n]), linear[n]*self.z) for n in graph.nodes]\n",
    "        two_body_terms = [(edge, self._2body(quadratic[e])) for e, edge in enumerate(graph.edges)]\n",
    "        interactions = one_body_terms + two_body_terms\n",
    "        super().__init__(graph, interactions)\n",
    "        self.name = 'xyz'\n",
    "        \n",
    "    def _2body(self, amplitude):\n",
    "        return amplitude*(self.x@self.x + self.y@self.y + self.z@self.z)"
   ]
  },
  {
   "cell_type": "code",
   "execution_count": null,
   "metadata": {},
   "outputs": [
    {
     "data": {
      "text/plain": [
       "[(array([0]), <2×2 Real Constant: 0.5·z>),\n",
       " (array([1]), <2×2 Real Constant: 0.5·z>),\n",
       " (array([2]), <2×2 Real Constant: 0.5·z>),\n",
       " (array([3]), <2×2 Real Constant: 0.5·z>),\n",
       " (array([4]), <2×2 Real Constant: 0.5·z>),\n",
       " (array([5]), <2×2 Real Constant: 0.5·z>),\n",
       " (array([0, 1]), <4×4 Complex Constant: 1.5·(x⊗x + y⊗y + z⊗z)>),\n",
       " (array([1, 2]), <4×4 Complex Constant: 1.5·(x⊗x + y⊗y + z⊗z)>),\n",
       " (array([2, 3]), <4×4 Complex Constant: 1.5·(x⊗x + y⊗y + z⊗z)>),\n",
       " (array([3, 4]), <4×4 Complex Constant: 1.5·(x⊗x + y⊗y + z⊗z)>),\n",
       " (array([4, 5]), <4×4 Complex Constant: 1.5·(x⊗x + y⊗y + z⊗z)>),\n",
       " (array([0, 5]), <4×4 Complex Constant: 1.5·(x⊗x + y⊗y + z⊗z)>)]"
      ]
     },
     "execution_count": null,
     "metadata": {},
     "output_type": "execute_result"
    }
   ],
   "source": [
    "xyz = XYZHamiltonian(chain, 0.5, 1.5)\n",
    "xyz.interactions"
   ]
  },
  {
   "cell_type": "markdown",
   "metadata": {},
   "source": [
    "### Serializing\n",
    "\n",
    "There are some issues serializing `picos.Expressions`. In our Hamiltonians we find `picos.ComplexAffineExpressions`, which are unpicklable. Hence, this restricts the way we can copy as well as save and load the Hamiltonians. \n",
    "\n",
    "For this reason, we have defined a `Hamiltonian.__deepcopy__` method, which returns a deep copy of all the parameters except for a shallow copy of the interactions. Furthermore, we have defined a `LocalHamiltonian.__reduce__` method that allows us to serielize local Hamiltonians. This allows us to both deepcopy and save/load local Hamiltonians. However, all local Hamiltonians must be initialized with the syntax `LocalHamiltonian(graph, one_body_amplitudes, two_body_amplitudes, *auxiliary_args)`. "
   ]
  },
  {
   "cell_type": "code",
   "execution_count": null,
   "metadata": {},
   "outputs": [
    {
     "data": {
      "text/plain": [
       "(__main__.XXHamiltonian,\n",
       " (<__main__.Chain1D at 0x7fdfb2213690>,\n",
       "  [0.5, 0.5, 0.5, 0.5, 0.5, 0.5],\n",
       "  [1.0, 1.0, 1.0, 1.0, 1.0, 1.0]))"
      ]
     },
     "execution_count": null,
     "metadata": {},
     "output_type": "execute_result"
    }
   ],
   "source": [
    "fun, args = xx.__reduce__()\n",
    "fun, args"
   ]
  },
  {
   "cell_type": "code",
   "execution_count": null,
   "metadata": {},
   "outputs": [
    {
     "data": {
      "text/plain": [
       "[(array([0]), <2×2 Real Constant: 0.5·z>),\n",
       " (array([1]), <2×2 Real Constant: 0.5·z>),\n",
       " (array([2]), <2×2 Real Constant: 0.5·z>),\n",
       " (array([3]), <2×2 Real Constant: 0.5·z>),\n",
       " (array([4]), <2×2 Real Constant: 0.5·z>),\n",
       " (array([5]), <2×2 Real Constant: 0.5·z>),\n",
       " (array([0, 1]), <4×4 Complex Constant: x⊗x + y⊗y>),\n",
       " (array([1, 2]), <4×4 Complex Constant: x⊗x + y⊗y>),\n",
       " (array([2, 3]), <4×4 Complex Constant: x⊗x + y⊗y>),\n",
       " (array([3, 4]), <4×4 Complex Constant: x⊗x + y⊗y>),\n",
       " (array([4, 5]), <4×4 Complex Constant: x⊗x + y⊗y>),\n",
       " (array([0, 5]), <4×4 Complex Constant: x⊗x + y⊗y>)]"
      ]
     },
     "execution_count": null,
     "metadata": {},
     "output_type": "execute_result"
    }
   ],
   "source": [
    "xx_new = fun(*args)\n",
    "xx_new.interactions"
   ]
  },
  {
   "cell_type": "code",
   "execution_count": null,
   "metadata": {},
   "outputs": [],
   "source": [
    "assert xx.interactions == xx_new.interactions"
   ]
  },
  {
   "cell_type": "markdown",
   "metadata": {},
   "source": [
    "With the `__reduce__` method we can also deepcopy the Hamiltonians."
   ]
  },
  {
   "cell_type": "code",
   "execution_count": null,
   "metadata": {},
   "outputs": [],
   "source": [
    "xx_copy = deepcopy(xx)"
   ]
  },
  {
   "cell_type": "code",
   "execution_count": null,
   "metadata": {},
   "outputs": [],
   "source": [
    "assert xx.interactions == xx_copy.interactions"
   ]
  },
  {
   "cell_type": "markdown",
   "metadata": {},
   "source": [
    "The only issue with the way we have implemented the `__reduce__` method is that, whenever the parent class has more input arguments than the child one, we need to manually fix it in the child one. For instance, `XYHamiltonian` takes the input `gamma`, but the `XXHamiltonian`, which inherits from the first one, does not have any additional argument besides the graph, the linear and the quadratic terms. In this case, we have to set `XXHamiltonian.aux_args = []` after calling `super().__init__` in the `XXHamiltonian.__init__`. Otherwise, the serializer will break due to an excess of input arguments trying to feed `gamma` into `XXHamiltonian`."
   ]
  },
  {
   "cell_type": "markdown",
   "metadata": {},
   "source": [
    "## References\n",
    "[1] F. Uskov and O. Lychkovskiy. [A variational lower bound on the ground state of a many-body system and the squaring parametrization of density matrices](https://iopscience.iop.org/article/10.1088/1742-6596/1163/1/012057). *Journal of Physics: Conference Series* **1163** 012057 (2019)"
   ]
  },
  {
   "cell_type": "markdown",
   "metadata": {},
   "source": [
    "## Export-"
   ]
  },
  {
   "cell_type": "code",
   "execution_count": null,
   "metadata": {},
   "outputs": [
    {
     "name": "stdout",
     "output_type": "stream",
     "text": [
      "Converted 00_environment.ipynb.\n",
      "Converted 01_agents.ipynb.\n",
      "Converted 02_budget_profiles.ipynb.\n",
      "Converted 03_hamiltonian.ipynb.\n",
      "Converted 04_training.ipynb.\n",
      "Converted 05_utils.ipynb.\n",
      "Converted 06_sdp.ipynb.\n",
      "Converted index.ipynb.\n"
     ]
    }
   ],
   "source": [
    "#hide\n",
    "from nbdev.export import notebook2script\n",
    "notebook2script()"
   ]
  }
 ],
 "metadata": {
  "kernelspec": {
   "display_name": "Python [conda env:root] *",
   "language": "python",
   "name": "conda-root-py"
  }
 },
 "nbformat": 4,
 "nbformat_minor": 4
}
