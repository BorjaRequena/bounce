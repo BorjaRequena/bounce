{
 "cells": [
  {
   "cell_type": "code",
   "execution_count": null,
   "metadata": {},
   "outputs": [],
   "source": [
    "#export\n",
    "import numpy as np\n",
    "import picos\n",
    "import networkx as nx\n",
    "import matplotlib.pyplot as plt"
   ]
  },
  {
   "cell_type": "code",
   "execution_count": null,
   "metadata": {},
   "outputs": [],
   "source": [
    "# default_exp hamiltonian"
   ]
  },
  {
   "cell_type": "code",
   "execution_count": null,
   "metadata": {},
   "outputs": [],
   "source": [
    "#hide\n",
    "from nbdev.showdoc import show_doc\n",
    "from nbdev.export import notebook2script\n",
    "%load_ext autoreload\n",
    "%autoreload 2"
   ]
  },
  {
   "cell_type": "markdown",
   "metadata": {},
   "source": [
    "# Hamiltonian\n",
    "\n",
    "> The hamiltonian class contains all the information defining the physical system.\n",
    "\n",
    "The Hamiltonian is used to build the semidefinite program (SdP) that is solved to obtain the bounds and costs (reward) for the agents. In this case, we use Hamiltonians, provided that we are bounding the ground state energy. However, this can be any object defining a problem.  "
   ]
  },
  {
   "cell_type": "code",
   "execution_count": null,
   "metadata": {},
   "outputs": [],
   "source": [
    "#export\n",
    "class Hamiltonian1D:\n",
    "    \n",
    "    x = picos.Constant('x', [[0, 1], [1, 0]])\n",
    "    y = picos.Constant('y', [[0, -1j], [1j, 0]])\n",
    "    z = picos.Constant('z', [[1, 0], [0, -1]])\n",
    "    Id = picos.Constant('Id', [[1, 0], [0, 1]])\n",
    "    \n",
    "    def __init__(self, N, linear, quadratic):\n",
    "        self.N = N\n",
    "        self.linear = linear\n",
    "        self.quadratic = quadratic\n",
    "        \n",
    "    def draw_system(self, figsize=(8,6), cmap=plt.cm.plasma):\n",
    "        \"Conceptual drawing of the system showing interaction strength and on-site field.\"\n",
    "        G = nx.Graph()\n",
    "        G.add_nodes_from([(node,{'w': w}) for node,w in zip(np.arange(self.N),self.linear)])\n",
    "        G.add_edges_from([(n,n+1,{'w': w}) if n<self.N-1 else (n,0,{'w': w}) for n,w in zip(np.arange(self.N), self.quadratic)])\n",
    "        plt.figure(figsize=figsize)\n",
    "        pos = nx.circular_layout(G)\n",
    "        for (n, d) in G.nodes(data=True):\n",
    "            nx.draw_networkx_nodes(G, pos=pos, nodelist=[n], node_size=400, node_color=[d['w']/np.max(self.linear)],\n",
    "                                   cmap=cmap, vmin=0, vmax=1)\n",
    "        for (u,v,d) in G.edges(data=True):\n",
    "            nx.draw_networkx_edges(G, pos=pos, edgelist=[(u,v)], width=5, alpha=d['w']/np.max(self.quadratic))\n",
    "        d = np.array([-0.1, 0])\n",
    "        label_pos = {k: v+d if v[0]<0 else v-d for k,v in pos.items()}\n",
    "        nx.draw_networkx_labels(G, pos=label_pos, font_size=25);\n",
    "        "
   ]
  },
  {
   "cell_type": "markdown",
   "metadata": {},
   "source": [
    "In the current release we only provide support for 1D problems. The `Hamiltonian1D` class contains the basic infrastructure to build 1D Hamiltonians with up to 2-body interactions. Spin Hamiltonians can be built based on Pauli operators `x`, `y` and `z`, each corresponding to the respective Pauli matrix, and the identity `Id`, which are already defined in terms of the variables that are used to solve the associated SdPs.\n",
    "\n",
    "All the Hamiltonians must have a `to_sdp` method, which must output a list of tuples of the form `(support, term)` indicating the sites on which each Hamiltonian term is acting. The `support` is a sorted `np.array`, while the `term` is made of `picos.Constant`. Using the pre-defined Pauli operators, the Hamiltonian terms already have the right format. Furthermore, Hamiltonians should have a `model` property that returns a string, e.g. `'xy'`, to provide proper naming to the associated files involved in the optimization process. See the source code of `XYHamiltonian` or `XXHamiltonian` for some examples. "
   ]
  },
  {
   "cell_type": "markdown",
   "metadata": {},
   "source": [
    "## Heisenberg XY model\n",
    "\n",
    "The quantum Heisenberg XY model is given by $$H=\\sum_{i} J_{i}((1+\\gamma)\\sigma_{i}^x \\sigma_{i+1}^x + (1-\\gamma)\\sigma_{i}^y \\sigma_{i+1}^y) + \\sum_{i}B_{i}\\sigma_{i}^z,$$ \n",
    "where $J_i$ is the pair-wise antiferromagnetic exchange and $B_i$ is the strength of the on-site magnetic field. The parameter $\\gamma$ induces an anisotropic interaction between directions $x$ and $y$. In the case of $\\gamma=0$, we have the so-called XX model $$H=\\sum_{i} J_{i}(\\sigma_{i}^x \\sigma_{i+1}^x + \\sigma_{i}^y \\sigma_{i+1}^y) + \\sum_{i}B_{i}\\sigma_{i}^z$$"
   ]
  },
  {
   "cell_type": "code",
   "execution_count": null,
   "metadata": {},
   "outputs": [],
   "source": [
    "#export\n",
    "class XYHamiltonian(Hamiltonian1D):\n",
    "    def __init__(self, N, linear, quadratic, g):\n",
    "        super().__init__(N, linear, quadratic)\n",
    "        self.g = g\n",
    "        self.model = 'xy'\n",
    "        \n",
    "    def to_sdp(self):\n",
    "        \"Returns hamiltonian in terms of SDP variables.\"\n",
    "        linear = [(np.array([i]), self.linear[i]*self.z) for i in range(self.N)]\n",
    "        quadratic = [(np.sort(np.array([i, (i+1)%self.N])), self._2body_interaction(i)) for i in range(self.N)]\n",
    "        return linear + quadratic\n",
    "    \n",
    "    def _2body_interaction(self, i):\n",
    "        return self.quadratic[i]*((1+self.g)*self.x@self.x + (1-self.g)*self.y@self.y)"
   ]
  },
  {
   "cell_type": "code",
   "execution_count": null,
   "metadata": {},
   "outputs": [],
   "source": [
    "#export\n",
    "class XXHamiltonian(Hamiltonian1D):\n",
    "    def __init__(self, N, linear, quadratic):\n",
    "        super().__init__(N, linear, quadratic)\n",
    "        self.model = 'xx'\n",
    "        \n",
    "    def to_sdp(self):\n",
    "        \"Returns hamiltonian in terms of SDP variables.\"\n",
    "        linear = [(np.array([i]), self.linear[i]*self.z) for i in range(self.N)]\n",
    "        quadratic = [(np.sort(np.array([i, (i+1)%self.N])), self._2body_interaction(i)) for i in range(self.N)]\n",
    "        return linear + quadratic\n",
    "    \n",
    "    def _2body_interaction(self, i):\n",
    "        return self.quadratic[i]*(self.x@self.x + self.y@self.y)"
   ]
  },
  {
   "cell_type": "markdown",
   "metadata": {},
   "source": [
    "In the following example we build a 1D Hamiltonian corresponding to the XX model with inhomogeneous interaction and field strengths."
   ]
  },
  {
   "cell_type": "code",
   "execution_count": null,
   "metadata": {},
   "outputs": [],
   "source": [
    "N = 10\n",
    "B = np.array([1, 2, 3, 2, 1, 0.5, 4, 5, 7, 3])\n",
    "J = np.array([0, 1, 3, 0, 5, 0, 4, 2, 0, 1])\n",
    "H = XXHamiltonian(N, B, J)"
   ]
  },
  {
   "cell_type": "code",
   "execution_count": null,
   "metadata": {},
   "outputs": [],
   "source": [
    "assert (H.linear == B).all()\n",
    "assert (H.quadratic == J).all()"
   ]
  },
  {
   "cell_type": "markdown",
   "metadata": {},
   "source": [
    "The `draw_system` method from `Hamiltonian1D` provides an illustrative representation of the physical system at hand associated to the 1D Hamiltonian. The interaction strength is represented by the transparency of the links between nodes and the strength of the linear terms is represented in the node colors."
   ]
  },
  {
   "cell_type": "code",
   "execution_count": null,
   "metadata": {},
   "outputs": [
    {
     "data": {
      "text/markdown": [
       "<h4 id=\"Hamiltonian1D.draw_system\" class=\"doc_header\"><code>Hamiltonian1D.draw_system</code><a href=\"__main__.py#L14\" class=\"source_link\" style=\"float:right\">[source]</a></h4>\n",
       "\n",
       "> <code>Hamiltonian1D.draw_system</code>(**`figsize`**=*`(8, 6)`*, **`cmap`**=*`<matplotlib.colors.ListedColormap object at 0x7f62b9f75550>`*)\n",
       "\n",
       "Conceptual drawing of the system showing interaction strength and on-site field"
      ],
      "text/plain": [
       "<IPython.core.display.Markdown object>"
      ]
     },
     "metadata": {},
     "output_type": "display_data"
    }
   ],
   "source": [
    "show_doc(Hamiltonian1D.draw_system)"
   ]
  },
  {
   "cell_type": "code",
   "execution_count": null,
   "metadata": {},
   "outputs": [
    {
     "data": {
      "image/png": "[encoded data removed]",
      "text/plain": [
       "<Figure size 576x432 with 1 Axes>"
      ]
     },
     "metadata": {},
     "output_type": "display_data"
    }
   ],
   "source": [
    "H.draw_system()"
   ]
  },
  {
   "cell_type": "markdown",
   "metadata": {},
   "source": [
    "For completeness, we provide an additional example of the Heisenberg Hamiltonian including interaction in the $\\sigma^z$ direction $$H=\\sum_i J_i(\\sigma_{i}^x\\sigma_{i+1}^x + \\sigma_{i}^y\\sigma_{i+1}^y + \\sigma_{i}^z\\sigma_{i+1}^z) + \\sum_i B_i\\sigma_i^z$$\n",
    "This model, with $B_i=0 \\ \\forall i$, is used in [[1]](https://iopscience.iop.org/article/10.1088/1742-6596/1163/1/012057). See the <a href=\"https://borjarequena.github.io/BOUNCE/sdp.html\">SdP docs</a> for further details."
   ]
  },
  {
   "cell_type": "code",
   "execution_count": null,
   "metadata": {},
   "outputs": [],
   "source": [
    "#export\n",
    "class XYZHamiltonian(Hamiltonian1D):\n",
    "    def __init__(self, N, linear, quadratic):\n",
    "        super().__init__(N, linear, quadratic)\n",
    "        self.model = 'xyz'\n",
    "        \n",
    "    def to_sdp(self):\n",
    "        \"Returns hamiltonian in terms of SDP variables.\"\n",
    "        linear = [(np.array([i]), self.linear[i]*self.z) for i in range(self.N)]\n",
    "        quadratic = [(np.sort(np.array([i, (i+1)%self.N])), self._2body_interaction(i)) for i in range(self.N)]\n",
    "        return linear + quadratic\n",
    "    \n",
    "    def _2body_interaction(self, i):\n",
    "        return self.quadratic[i]*(self.x@self.x + self.y@self.y + self.z@self.z)"
   ]
  },
  {
   "cell_type": "markdown",
   "metadata": {},
   "source": [
    "## References\n",
    "[1] F. Uskov and O. Lychkovskiy. [A variational lower bound on the ground state of a many-body system and the squaring parametrization of density matrices](https://iopscience.iop.org/article/10.1088/1742-6596/1163/1/012057). *Journal of Physics: Conference Series* **1163** 012057 (2019)"
   ]
  },
  {
   "cell_type": "markdown",
   "metadata": {},
   "source": [
    "## Export-"
   ]
  },
  {
   "cell_type": "code",
   "execution_count": 1,
   "metadata": {},
   "outputs": [
    {
     "name": "stdout",
     "output_type": "stream",
     "text": [
      "Converted 00_environment.ipynb.\n",
      "Converted 01_agents.ipynb.\n",
      "Converted 02_budget_profiles.ipynb.\n",
      "Converted 03_hamiltonian.ipynb.\n",
      "Converted 04_training.ipynb.\n",
      "Converted 05_utils.ipynb.\n",
      "Converted 06_sdp.ipynb.\n",
      "Converted index.ipynb.\n"
     ]
    }
   ],
   "source": [
    "#hide\n",
    "from nbdev.export import notebook2script\n",
    "notebook2script()"
   ]
  }
 ],
 "metadata": {
  "kernelspec": {
   "display_name": "Python [conda env:root] *",
   "language": "python",
   "name": "conda-root-py"
  },
  "language_info": {
   "codemirror_mode": {
    "name": "ipython",
    "version": 3
   },
   "file_extension": ".py",
   "mimetype": "text/x-python",
   "name": "python",
   "nbconvert_exporter": "python",
   "pygments_lexer": "ipython3",
   "version": "3.7.10"
  }
 },
 "nbformat": 4,
 "nbformat_minor": 4
}
