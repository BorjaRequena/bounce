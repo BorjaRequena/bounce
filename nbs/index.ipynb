{
 "cells": [
  {
   "cell_type": "raw",
   "metadata": {},
   "source": [
    "---\n",
    "description: \"Easy optimal relaxations for your hard optimziation problems.\"\n",
    "output-file: index.html\n",
    "title: BOUNCE\n",
    "---"
   ]
  },
  {
   "cell_type": "markdown",
   "metadata": {},
   "source": [
    "<a href=\"https://doi.org/10.5281/zenodo.4585623\"><img src=\"https://zenodo.org/badge/DOI/10.5281/zenodo.4585623.svg\" alt=\"DOI\"></a>\n",
    "\n",
    "<p align=\"center\">\n",
    "    <a href=\"https://borjarequena.github.io/bounce/\">Documentation</a> |\\n\n",
    "    <a href=\"https://borjarequena.github.io/bounce/tutorial/introduction.html\">Tutorials</a> |\\n\n",
    "    <a href=\"#cite-us\">Cite us</a> \\n\n",
    "</p>"
   ]
  },
  {
   "cell_type": "markdown",
   "metadata": {},
   "source": [
    "We have originally developed this library for the paper [**Certificates of quantum many-body properties assisted by machine learning**](https://arxiv.org/abs/2103.03830). Here, you will find the source code used to obtain the paper results in the [tutorials](https://borjarequena.github.io/bounce/tutorial/introduction.html)."
   ]
  },
  {
   "attachments": {},
   "cell_type": "markdown",
   "metadata": {},
   "source": [
    "# Installation\n",
    "\n",
    "In order to use the library, you will have to clone this repository with `git clone https://github.com/BorjaRequena/bounce.git` and install it via `pip install bounce`. In order to edit the source code and adapt it to your particular problems, you may want to install it in editable form with `pip install -e bounce`.\n",
    "\n",
    "::: {.callout-note}\n",
    "In order to perform the installation, you can either provide the full path to the repository or be in the immediately higher level. For instance, if the repository is in the directory `~/what/ever/bounce`, go to `~/what/ever/` directory to run the `pip install -e bounce` command, otherwise you can run `pip install -e ~/what/ever/bounce`. If this ever gets momentum, we'll put it on pypi :)\n",
    ":::\n",
    "\n",
    "# Cite us\n",
    "\n",
    "When using this library, please cite us!\n",
    "\n",
    "It is very important for us to cite our original work:\n",
    "```\n",
    "@article{Requena2023PRR,\n",
    "  title     = {Certificates of quantum many-body properties assisted by machine learning},\n",
    "  author    = {Requena, Borja and Mu\\~noz-Gil, Gorka and Lewenstein, Maciej and Dunjko, Vedran and Tura, Jordi},\n",
    "  journal   = {Phys. Rev. Res.},\n",
    "  volume    = {5},\n",
    "  issue     = {1},\n",
    "  pages     = {013097},\n",
    "  numpages  = {26},\n",
    "  year      = {2023},\n",
    "  month     = {Feb},\n",
    "  publisher = {American Physical Society},\n",
    "  doi       = {10.1103/PhysRevResearch.5.013097},\n",
    "  url       = {https://link.aps.org/doi/10.1103/PhysRevResearch.5.013097}\n",
    "}\n",
    "```\n",
    "along this repository:\n",
    "```\n",
    "@Software{Requena2021Zenodo,\n",
    "  author    = {Requena, Borja and Muñoz-Gil, Gorka and Tura, Jordi},\n",
    "  doi       = {10.5281/zenodo.4585623},\n",
    "  month     = mar,\n",
    "  publisher = {Zenodo},\n",
    "  title     = {BorjaRequena/BOUNCE},\n",
    "  url       = {https://doi.org/10.5281/zenodo.4585623},\n",
    "  year      = {2021},\n",
    "}\n",
    "```"
   ]
  }
 ],
 "metadata": {
  "kernelspec": {
   "display_name": "base",
   "language": "python",
   "name": "python3"
  },
  "language_info": {
   "name": "python",
   "version": "3.9.13"
  },
  "vscode": {
   "interpreter": {
    "hash": "191e5fe559de51737cd3a4ac9a08e8b1f97a2671a54dd848821c54d89b48063d"
   }
  }
 },
 "nbformat": 4,
 "nbformat_minor": 4
}
