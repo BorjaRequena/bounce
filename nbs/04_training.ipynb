{
 "cells": [
  {
   "cell_type": "code",
   "execution_count": null,
   "metadata": {},
   "outputs": [],
   "source": [
    "#export \n",
    "import numpy as np\n",
    "from tqdm.auto import tqdm\n",
    "from copy import deepcopy\n",
    "from functools import partial\n",
    "from fastcore.all import *\n",
    "from joblib import Parallel, delayed\n",
    "\n",
    "from bounce.agents import DQNAgent, DQN, BrFSAgent, MCAgent\n",
    "from bounce.environment import SDPEnvironment\n",
    "from bounce.utils import T, state_in_list, state2str\n",
    "from bounce.utils import load_checkpoint, save_model, load_model\n",
    "\n",
    "import torch\n",
    "import torch.nn as nn\n",
    "import torch.optim as optim"
   ]
  },
  {
   "cell_type": "code",
   "execution_count": null,
   "metadata": {},
   "outputs": [],
   "source": [
    "# default_exp training"
   ]
  },
  {
   "cell_type": "code",
   "execution_count": null,
   "metadata": {},
   "outputs": [],
   "source": [
    "#hide\n",
    "from nbdev.showdoc import show_doc\n",
    "%load_ext autoreload\n",
    "%autoreload 2\n",
    "%matplotlib inline"
   ]
  },
  {
   "cell_type": "markdown",
   "metadata": {},
   "source": [
    "# Training\n",
    "> Functionalities to train the different agents.\n",
    "\n",
    "Here we provide `Trainer` objects that can train several agents in parallel. These generate a set of independent agents and their respective environments to perform the training. \n",
    "\n",
    "Each `Trainer` relies on an external function that determines the way the agent explores the state space. For instance, the `DQNTrainer` relies on the `train_agent` function and the `MCTrainer` relies on the `explore_mc` function. "
   ]
  },
  {
   "cell_type": "markdown",
   "metadata": {},
   "source": [
    "## Deep Q-learning trainer\n",
    "\n",
    "The `DQNTrainer` handles the training of the deep reinforcement learning agent. "
   ]
  },
  {
   "cell_type": "code",
   "execution_count": null,
   "metadata": {},
   "outputs": [],
   "source": [
    "#export\n",
    "class DQNTrainer:\n",
    "    \"Trainer for DQN agents\"\n",
    "    @delegates(DQNAgent.__init__)\n",
    "    def __init__(self, N, H, budget_profile, reward_fun=\"energy_norm\", \n",
    "                 n_agents=1, models=None, arch=DQN, n_jobs=1, **kwargs):\n",
    "        self.env = SDPEnvironment(N, H, budget_profile, reward_criterion=reward_fun)\n",
    "        self.arch = arch\n",
    "        self.agent_kwargs = kwargs\n",
    "        self.n_agents = n_agents\n",
    "        self.parallel = Parallel(n_jobs=n_jobs)\n",
    "        self.models = models\n",
    "        self._def_reset()\n",
    "        self.reset()\n",
    "        \n",
    "    def train(self, episodes, id0=0, **kwargs):\n",
    "        \"Performs `n_trains` in parallel.\"\n",
    "        train_setups = zip(self.envs, self.agents)\n",
    "        p_train = partial(train_agent, episodes=episodes, **kwargs)\n",
    "        results = self.parallel(delayed(p_train)(env, agent, train_id=k+id0) for k, (env,agent) in enumerate(train_setups))\n",
    "        return self._process_results(results)     \n",
    "        \n",
    "    def change_environment(self, H=None, budget_profile=None, reward_fun=\"energy_norm\"):\n",
    "        \"Changes the environment parameters\"\n",
    "        if H is None: H = self.env.H\n",
    "        if budget_profile is None: budget_profile = self.env.param_profile\n",
    "        self.env = SDPEnvironment(self.env.N, H, budget_profile, reward_criterion=\"energy_norm\")\n",
    "        if self.envs is not None: \n",
    "            self.envs = [deepcopy(self.env) for _ in range(len(self.envs))]\n",
    "            \n",
    "    def set_agent_attrs(self, **attrs):\n",
    "        \"Changes values of the current agents, e.g., `agent.epsilon`\"\n",
    "        for attribute, value in attrs.items():\n",
    "            [setattr(agent, attribute, value) for agent in self.agents]\n",
    "        \n",
    "    def _process_results(self, results):\n",
    "        \"Processes the results as they come out of the parallel\"\n",
    "        agents, envs, final_rewards, final_params, final_energies, final_optims, expl_optims = [], [], [], [], [], [], []\n",
    "        visited_states, visited_energies, visited_params, oracle_rewards, visited_rewards = [], [], [], [], []\n",
    "        for result in results:\n",
    "            agent, env, rewards, params, energies, opt_eval, opt_exp = result[\"training\"]\n",
    "            agents.append(agent); envs.append(env); final_rewards.append(rewards); final_params.append(params)\n",
    "            final_energies.append(energies); final_optims.append(opt_eval); expl_optims.append(opt_exp)   \n",
    "            \n",
    "            states, energies, params, o_rewards, env_rewards = result[\"exploration\"]\n",
    "            visited_states.append(states); visited_energies.append(energies); visited_params.append(params)\n",
    "            oracle_rewards.append(o_rewards); visited_rewards.append(env_rewards)\n",
    "            \n",
    "        self.agents, self.envs = agents, envs  \n",
    "        models = [agent.model for agent in agents]\n",
    "        training_results = {'models': models, 'envs': envs, 'rewards': final_rewards, 'params': final_params, \n",
    "                            'energies': final_energies, 'eval_optims': final_optims, 'expl_optims': expl_optims}\n",
    "        exploration_results = {'agents': models, 'envs': envs, 'visited_states': visited_states, 'energies': visited_energies, \n",
    "                               'params': visited_params, 'oracle_rewards': oracle_rewards, 'visited_rewards': visited_rewards}\n",
    "        return {'training': training_results, 'exploration': exploration_results}\n",
    "    \n",
    "    def _get_agent(self, model=None):\n",
    "        \"Instantiates the agent given an architecture `arch`.\"\n",
    "        if model is None: \n",
    "            in_dim = len(self.env.state); out_dim = in_dim + 1\n",
    "            net = self.arch(in_dim, out_dim)\n",
    "        else: \n",
    "            self.arch = model.__class__\n",
    "            net = deepcopy(model)\n",
    "        return DQNAgent(self.env.N, net, **self.agent_kwargs)\n",
    "    \n",
    "    def _def_reset(self):\n",
    "        \"Defines the reset method.\"\n",
    "        if self.models is None: \n",
    "            self.reset = self._reset_from_scratch\n",
    "        else:                \n",
    "            self.n_agents = len(self.models)\n",
    "            self.reset = self._reset_from_models\n",
    "    \n",
    "    def _reset_from_scratch(self):\n",
    "        \"Restarts the agents and everinoments creating `n_agents` instances\"\n",
    "        self.agents = [self._get_agent() for _ in range(self.n_agents)]\n",
    "        self.envs = [deepcopy(self.env) for _ in range(self.n_agents)]\n",
    "        \n",
    "    def _reset_from_models(self):\n",
    "        \"Restarts the agents and environments from the pre-trained models\"\n",
    "        self.agents = [self._get_agent(model) for model in self.models]\n",
    "        self.envs = [deepcopy(self.env) for _ in range(len(self.models))]"
   ]
  },
  {
   "cell_type": "markdown",
   "metadata": {},
   "source": [
    "The `DQNTrainer` depends entirely on the `train_agent` function. This, in itself, relies on several inner functionalities shown below. "
   ]
  },
  {
   "cell_type": "code",
   "execution_count": null,
   "metadata": {},
   "outputs": [],
   "source": [
    "#export    \n",
    "def train_agent(env, agent, episodes, time_steps=20, opt=None, best_ref=None,\n",
    "                evaluate=True, break_opt=False, train_id=None, ckp=20, save=True):\n",
    "    \"Trains an agent given an environment.\"\n",
    "    if train_id is None: train_id = np.random.randint(100, 1000)\n",
    "    if isinstance(episodes, int): episodes = (episodes,)\n",
    "    final_reward, final_params, final_energies, final_optimals, optimal_states = [], [], [], [], []\n",
    "    visited_states, visited_energies, visited_params, oracle_rewards, visited_rewards = [], [], [], [], []\n",
    "    ckp_dir = Path(\"../trained_models/checkpoints/\"); ckp_dir.mkdir(parents=True, exist_ok=True)\n",
    "    ckp_name = None\n",
    "    breaking = False\n",
    "                   \n",
    "    for e in tqdm(range(*episodes)):\n",
    "        state = deepcopy(env.reset())  # Reset environment at the beginning of each game\n",
    "        optims = []\n",
    "        for _ in range(time_steps):           \n",
    "            next_state, action, energy, params, err = step(state, agent, env, e) # perform step\n",
    "            agent.memorize(state, action, energy, params, next_state)            # memorize outcome\n",
    "            state = deepcopy(next_state)                                               \n",
    "            \n",
    "            if opt is not None: optims.append(check_optim(opt, energy, params)) # Track optims during exploration\n",
    "            if not state_in_list(state, visited_states): \n",
    "                visited_states.append(state)\n",
    "                visited_energies.append(energy)\n",
    "                visited_params.append(params)\n",
    "                visited_rewards.append(get_reward(env, energy, params))\n",
    "                if best_ref is not None:\n",
    "                    oracle_rewards.append(get_reward(env, energy, params, best_ref=best_ref))\n",
    "                    \n",
    "            if break_opt and check_optim(opt, energy, params): breaking = True; break\n",
    "\n",
    "        if len(agent.memory) >= agent.batch_size//5:   \n",
    "            agent.replay(env)                                                  # Replay to learn                        \n",
    "            \n",
    "        if e%agent.target_update == 0:\n",
    "            agent.target_net.load_state_dict(agent.model.state_dict())         # Update target network\n",
    "            \n",
    "        if evaluate:\n",
    "            reward, energy, params = evaluate_agent(agent, env, time_steps, e) # Evaluate agent (deterministic policy)\n",
    "            final_reward.append(reward) \n",
    "\n",
    "        final_params.append(params)\n",
    "        final_energies.append(energy)\n",
    "        if opt is not None: \n",
    "            final_optimals.append(check_optim(opt, energy, params))\n",
    "            optimal_states.append(np.mean(optims))\n",
    "            \n",
    "        # Save checkpoint    \n",
    "        if e%ckp == 0 or e==episodes[0]-1 or breaking: \n",
    "            if ckp_name is not None: (ckp_dir/ckp_name).unlink()\n",
    "            ckp_name = f\"ckp_N{agent.N}_{env.H.model}_{env.param_profile.max_params}_id{train_id}_e{e}.pt\"\n",
    "            checkpoint = {'model': agent.model, 'model_state_dict': agent.model.state_dict, 'env': env,\n",
    "                   'final_reward': final_reward, 'final_params': final_params, 'final_energies': final_energies,\n",
    "                   'eval_optims': final_optimals, 'expl_optims': optimal_states, 'visited_states': visited_states, \n",
    "                   'visited_energies': visited_energies, 'visited_params': visited_params, \n",
    "                   'oracle_rewards': oracle_rewards, 'visited_rewards': visited_rewards}\n",
    "            torch.save(checkpoint, ckp_dir/ckp_name)\n",
    "            env.save_memory()\n",
    "            \n",
    "        if breaking: break\n",
    "        \n",
    "    # Once trained, save updated memory file and trained agent\n",
    "    env.save_memory()\n",
    "    if save: save_model(agent, env.H, env.param_profile.max_params, train_id)\n",
    "        \n",
    "    return {'training': (agent, env, final_reward, final_params, final_energies, final_optimals, optimal_states),\n",
    "            'exploration': (visited_states, visited_energies, visited_params, oracle_rewards, visited_rewards)}\n",
    "\n",
    "DQNTrainer.train = delegates(to=train_agent)(DQNTrainer.train)"
   ]
  },
  {
   "cell_type": "markdown",
   "metadata": {},
   "source": [
    "To train an agent, provide the environment `env` containing the all the details about the problem that is to be solved and the `agent`, which is an initialized `DQNAgent`. The learning process is structured in a number of `episodes` of length `time_steps`. Every episode starts from the same initial state and the agent performs a trajectory through the state space of length `time_steps`. The agent gathers experience throughout the episode that then, once it has gathered enough, it is replayed to learn. The target network for double Q-learning is updated every `agent.target_update` learning episodes.\n",
    "\n",
    "If `evaluate` is set to `True`, the agent performs an evaluation episode after each training episode. With this, we can keep track of the convergence of the agent by looking at the final state of this episode. For the evaluation, there can be provided the optional `opt` and `best_ref`, which are used to check whether the agent is reaching the optimal configuration and the relative performance with respect to it. When only considering the exploration capabilities, `break_opt` is used to stop the learning process once the agent has encountered the optimal state. \n",
    "\n",
    "The optional inputs `train_id`, `ckp` and `save` are meant to handle data storage. With `train_id` we name the agent to save the training data in a consistent way. This is specially important when training agents in parallel, although `DQNTrainer` already handles this automatically. If no `train_id` is provided, the agent is assigned one at random. The training process is backed up every `ckp` training episodes and, if `save` is set to `True`, the resulting trained agent is saved at the end of the training process. \n",
    "\n",
    "`train_agent` uses the following functionalities to make the code more readable."
   ]
  },
  {
   "cell_type": "code",
   "execution_count": null,
   "metadata": {},
   "outputs": [],
   "source": [
    "#export\n",
    "def step(state, agent, environment, episode=1):\n",
    "    \"Take a step forward from state following the agent's policy\"\n",
    "    actions = agent.try_actions(state)\n",
    "    next_state, action, energy, params, err = environment.perform_action(actions, episode)\n",
    "    return next_state, action, energy, params, err\n",
    "\n",
    "def get_reward(environment, energy, params, best_ref=None):\n",
    "    \"Returns the reward according to the environment\"\n",
    "    return environment.reward_fun(T([energy]), T([params]), best_ref=best_ref).item()\n",
    "\n",
    "def evaluate_agent(agent, environment, time_steps, episode=0):\n",
    "    \"Evaluates the agent in deterministic policy. Returns final reward, energy and parameters\"\n",
    "    # Policy evaluation\n",
    "    eps = agent.epsilon\n",
    "    agent.epsilon = 0                       # Temporarily switch to greedy policy\n",
    "    state = deepcopy(environment.reset())\n",
    "    for _ in range(time_steps):\n",
    "        next_state, _, energy, params, _ = step(state, agent, environment, episode)    \n",
    "        state = deepcopy(next_state)    \n",
    "    # Get the final reward\n",
    "    reward = environment.reward_fun(T([energy]).to(agent.device), T([params]).to(agent.device)).item()\n",
    "    agent.epsilon = eps\n",
    "    return reward, energy, params\n",
    "\n",
    "def check_optim(opt, E, P):\n",
    "    \"Checks whether the current energy `E` and parameters `P` match with the optimal ones.\"\n",
    "    return np.allclose((E, P), opt)"
   ]
  },
  {
   "cell_type": "code",
   "execution_count": null,
   "metadata": {},
   "outputs": [],
   "source": [
    "#hide\n",
    "from bounce.hamiltonian import XXHamiltonian\n",
    "from bounce.budget_profiles import FlatProfile\n",
    "from bounce.utils import plot_trainings, arrange_shape\n",
    "import matplotlib.pyplot as plt"
   ]
  },
  {
   "cell_type": "markdown",
   "metadata": {},
   "source": [
    "In the training process if we know the optimal set of constraints a priori, we can provide an `opt` reference consisting of a tuple with the optimal energy and parameters. Furthermore, with full knowledge of the problem, the `best_ref` can be provided in the form of an `np.array` that contains the optimal energy and parameters (like the `opt`), plus the highest number of parameters with which the optimal energy can be obtained. "
   ]
  },
  {
   "cell_type": "code",
   "execution_count": null,
   "metadata": {},
   "outputs": [],
   "source": [
    "N = 6\n",
    "B0, J0 = [1]*N, [i%3 for i in range(N)]\n",
    "H = XXHamiltonian(N, np.array(B0), np.array(J0))\n",
    "profile = FlatProfile(300)\n",
    "opt = (-10.94427, 127)\n",
    "best_ref = np.array([*opt, 288])"
   ]
  },
  {
   "cell_type": "code",
   "execution_count": null,
   "metadata": {},
   "outputs": [],
   "source": [
    "episodes = 50\n",
    "time_steps = 7"
   ]
  },
  {
   "cell_type": "code",
   "execution_count": null,
   "metadata": {},
   "outputs": [],
   "source": [
    "dqn = DQNTrainer(N, H, profile)"
   ]
  },
  {
   "cell_type": "code",
   "execution_count": null,
   "metadata": {},
   "outputs": [
    {
     "data": {
      "application/vnd.jupyter.widget-view+json": {
       "model_id": "0e71f2f159c447ae82921885d71ea7e0",
       "version_major": 2,
       "version_minor": 0
      },
      "text/plain": [
       "HBox(children=(FloatProgress(value=0.0, max=20.0), HTML(value='')))"
      ]
     },
     "metadata": {},
     "output_type": "display_data"
    },
    {
     "name": "stdout",
     "output_type": "stream",
     "text": [
      "\n"
     ]
    }
   ],
   "source": [
    "results = dqn.train(episodes=episodes, time_steps=time_steps, opt=opt, best_ref=best_ref)"
   ]
  },
  {
   "cell_type": "code",
   "execution_count": null,
   "metadata": {},
   "outputs": [
    {
     "data": {
      "image/png": "[encoded data removed]",
      "text/plain": [
       "<Figure size 720x360 with 2 Axes>"
      ]
     },
     "metadata": {},
     "output_type": "display_data"
    }
   ],
   "source": [
    "plot_trainings(results['training'])"
   ]
  },
  {
   "cell_type": "markdown",
   "metadata": {},
   "source": [
    "## Breadth first search trainer"
   ]
  },
  {
   "cell_type": "code",
   "execution_count": null,
   "metadata": {},
   "outputs": [],
   "source": [
    "#export\n",
    "def explore_brfs(env, agent, max_states, opt=None, best_ref=None, break_opt=False):\n",
    "    \"Space exploration with Breadth First Search (BrFS)\"\n",
    "    state_count = 0\n",
    "    breaking = False\n",
    "    visited_states, energies, parameters, rewards, optims = [], [], [], [], []\n",
    "    while state_count < max_states:\n",
    "        expanded_states = agent.expand()\n",
    "        for state in expanded_states: \n",
    "            env.state = state\n",
    "            simp_state, _ = env._simplify_constraints()\n",
    "            if not agent.in_closed(simp_state) and not agent.in_open(simp_state):\n",
    "                energy, params, err = env.get_values()\n",
    "                if not err: \n",
    "                    agent.add_open(simp_state)\n",
    "                    state_count += 1\n",
    "                    # Track quantities\n",
    "                    visited_states.append(simp_state)\n",
    "                    energies.append(energy)\n",
    "                    parameters.append(params)\n",
    "                    if opt is not None: optims.append(check_optim(opt, energy, params))\n",
    "                    if best_ref is not None: \n",
    "                        rewards.append(get_reward(env, energy, params, best_ref=best_ref))\n",
    "                    if break_opt and check_optim(opt, energy, params): breaking = True; break\n",
    "        \n",
    "                else: \n",
    "                    agent.add_closed(simp_state)\n",
    "\n",
    "        if breaking or len(expanded_states) is 0: break\n",
    "            \n",
    "    env.save_memory()\n",
    "    return agent, env, visited_states, energies, parameters, rewards, optims \n",
    "\n",
    "class BrFSTrainer:\n",
    "    def __init__(self, N, H, budget_profile, reward_fun=\"energy_norm\", n_agents=1, n_jobs=1):\n",
    "        self.env = SDPEnvironment(N, H, budget_profile, reward_criterion=reward_fun)\n",
    "        self.n_agents = n_agents\n",
    "        self.parallel = Parallel(n_jobs=n_jobs)\n",
    "        self.reset()\n",
    "    \n",
    "    @delegates(explore_brfs)\n",
    "    def train(self, max_states, **kwargs):\n",
    "        \"Performs `n_trains` in parallel.\"\n",
    "        self.reset() # provisional fix while parallel does not work\n",
    "        train_setups = zip(self.envs, self.agents)\n",
    "        p_explore = partial(explore_brfs, max_states=max_states, **kwargs)\n",
    "        results = self.parallel(delayed(p_explore)(env, agent) for k, (env, agent) in enumerate(train_setups))\n",
    "        return self._process_results(results) \n",
    "        \n",
    "    def reset(self):\n",
    "        \"Restarts the agents and everinoments creating `n_agents` instances\"\n",
    "        self.agents = [self._get_agent() for _ in range(self.n_agents)]\n",
    "        self.envs = [deepcopy(self.env) for _ in range(self.n_agents)]\n",
    "        \n",
    "    def _process_results(self, results):\n",
    "        \"Processes the results as they come out of the parallel\"\n",
    "        agents, envs, visited_states, energies, params, rewards, optims = [], [], [], [], [], [], []\n",
    "        for res in results:\n",
    "            agent, env, states, ener, par, rew, opts = res\n",
    "            agents.append(agent); envs.append(env); visited_states.append(states); \n",
    "            energies.append(ener); params.append(par); rewards.append(rew); optims.append(opts);   \n",
    "        \n",
    "        self.agents, self.envs = agents, envs\n",
    "        return {'agents': agents, 'envs': envs, 'visited_states': visited_states, \n",
    "                'energies': energies, 'params': params, 'oracle_rewards': rewards, 'optims': optims}\n",
    "        \n",
    "    def _get_agent(self):\n",
    "        \"Instantiates an agent.\"\n",
    "        return BrFSAgent(self.env.N, self.env.state)       "
   ]
  },
  {
   "cell_type": "code",
   "execution_count": null,
   "metadata": {},
   "outputs": [],
   "source": [
    "bfs = BrFSTrainer(N, H, profile)"
   ]
  },
  {
   "cell_type": "code",
   "execution_count": null,
   "metadata": {},
   "outputs": [],
   "source": [
    "results = bfs.train(150, opt=opt, best_ref=best_ref)"
   ]
  },
  {
   "cell_type": "code",
   "execution_count": null,
   "metadata": {},
   "outputs": [
    {
     "data": {
      "image/png": "[encoded data removed]",
      "text/plain": [
       "<Figure size 432x288 with 1 Axes>"
      ]
     },
     "metadata": {
      "needs_background": "light"
     },
     "output_type": "display_data"
    }
   ],
   "source": [
    "plt.plot(np.mean(results[\"oracle_rewards\"], axis=0))\n",
    "plt.grid()"
   ]
  },
  {
   "cell_type": "markdown",
   "metadata": {},
   "source": [
    "## Monte-Carlo trainer\n"
   ]
  },
  {
   "cell_type": "code",
   "execution_count": null,
   "metadata": {},
   "outputs": [],
   "source": [
    "#export\n",
    "def explore_mc(env, agent, max_states, opt=None, best_ref=None, ckp=20, break_opt=False):\n",
    "    \"Space exploration with Monte-Carlo (MC)\"\n",
    "    visited_states, energies, parameters, oracle_rewards, visited_rewards, optims = [], [], [], [], [], []\n",
    "    breaking = False\n",
    "    # Initial state\n",
    "    state = env.reset()\n",
    "    energy1, params1, _ = env.get_values()\n",
    "    for s in tqdm(range(max_states)):\n",
    "        state = deepcopy(state)       \n",
    "        next_state, action, energy2, params2, err = step(state, agent, env)        \n",
    "        r1 = get_reward(env, energy1, params1)\n",
    "        r2 = get_reward(env, energy2, params2)\n",
    "        \n",
    "        if not state_in_list(next_state, visited_states):\n",
    "            if err: raise Exception(f\"Got an error for state {next_state}\")\n",
    "            visited_states.append(deepcopy(next_state))\n",
    "            energies.append(energy2)\n",
    "            parameters.append(params2)\n",
    "            visited_rewards.append(r2)\n",
    "            if opt is not None: optims.append(check_optim(opt, energy2, params2))\n",
    "            if best_ref is not None: \n",
    "                oracle_rewards.append(get_reward(env, energy2, params2, best_ref=best_ref))\n",
    "            if break_opt and check_optim(opt, energy2, params2): breaking = True; break\n",
    "        if breaking: break\n",
    "                \n",
    "        if agent.accept(r1, r2):\n",
    "            state = deepcopy(next_state)\n",
    "            energy1, params1 = deepcopy(energy2), deepcopy(params2)\n",
    "        else: \n",
    "            env.state = deepcopy(state)\n",
    "            \n",
    "        if s%ckp == 0: env.save_memory()\n",
    "                          \n",
    "    env.save_memory()\n",
    "    return agent, env, visited_states, energies, parameters, oracle_rewards, visited_rewards, optims\n",
    "\n",
    "class MCTrainer:\n",
    "    @delegates(MCAgent.__init__)\n",
    "    def __init__(self, N, H, budget_profile, reward_fun=\"energy_norm\", n_agents=1, n_jobs=1, **kwargs):\n",
    "        self.env = SDPEnvironment(N, H, budget_profile, reward_criterion=reward_fun)\n",
    "        self.n_agents = n_agents\n",
    "        self.parallel = Parallel(n_jobs=n_jobs)\n",
    "        self.agent_kwargs = kwargs\n",
    "        self.reset()\n",
    "        \n",
    "    @delegates(explore_mc)\n",
    "    def train(self, max_states, **kwargs):\n",
    "        \"Performs `n_trains` in parallel.\"\n",
    "        train_setups = zip(self.envs, self.agents)\n",
    "        p_explore = partial(explore_mc, max_states=max_states, **kwargs)\n",
    "        results = self.parallel(delayed(p_explore)(env, agent) for k, (env, agent) in enumerate(train_setups))\n",
    "        return self._process_results(results) \n",
    "        \n",
    "    def reset(self):\n",
    "        \"Restarts the agents and everinoments creating `n_agents` instances\"\n",
    "        self.agents = [self._get_agent() for _ in range(self.n_agents)]\n",
    "        self.envs = [deepcopy(self.env) for _ in range(self.n_agents)]\n",
    "        \n",
    "    def _process_results(self, results):\n",
    "        \"Processes the results as they come out of the parallel\"\n",
    "        agents, envs, visited_states, visited_energies, visited_params = [], [], [], [], []\n",
    "        oracle_rewards, visited_rewards, optims = [], [], []\n",
    "        for result in results:\n",
    "            agent, env, states, energies, params, o_rewards, env_rewards, opts = result\n",
    "            agents.append(agent); envs.append(env); visited_states.append(states); \n",
    "            visited_energies.append(energies); visited_params.append(params)\n",
    "            oracle_rewards.append(o_rewards); visited_rewards.append(env_rewards); optims.append(opts)\n",
    "            \n",
    "        self.agents, self.envs = agents, envs\n",
    "        return {'agents': agents, 'envs': envs, 'visited_states': visited_states, \n",
    "                'energies': visited_energies, 'params': visited_params, 'oracle_rewards': oracle_rewards, \n",
    "                'visited_rewards': visited_rewards, 'expl_optims': optims}\n",
    "\n",
    "    def _get_agent(self):\n",
    "        \"Instantiates an agent.\"\n",
    "        return MCAgent(self.env.N, **self.agent_kwargs)"
   ]
  },
  {
   "cell_type": "code",
   "execution_count": null,
   "metadata": {},
   "outputs": [],
   "source": [
    "bfs = MCTrainer(N, H, profile, n_agents=2, n_jobs=2)"
   ]
  },
  {
   "cell_type": "code",
   "execution_count": null,
   "metadata": {},
   "outputs": [],
   "source": [
    "results = bfs.train(350, opt=opt, best_ref=best_ref)"
   ]
  },
  {
   "cell_type": "code",
   "execution_count": null,
   "metadata": {},
   "outputs": [
    {
     "data": {
      "image/png": "[encoded data removed]",
      "text/plain": [
       "<Figure size 432x288 with 1 Axes>"
      ]
     },
     "metadata": {
      "needs_background": "light"
     },
     "output_type": "display_data"
    }
   ],
   "source": [
    "plt.plot(np.mean(arrange_shape(results['oracle_rewards']), axis=0))\n",
    "plt.grid()"
   ]
  },
  {
   "cell_type": "markdown",
   "metadata": {},
   "source": [
    "## Export-"
   ]
  },
  {
   "cell_type": "code",
   "execution_count": null,
   "metadata": {},
   "outputs": [
    {
     "name": "stdout",
     "output_type": "stream",
     "text": [
      "Converted 00_environment.ipynb.\n",
      "Converted 01_agents.ipynb.\n",
      "Converted 02_budget_profiles.ipynb.\n",
      "Converted 03_hamiltonian.ipynb.\n",
      "Converted 04_training.ipynb.\n",
      "Converted 05_utils.ipynb.\n",
      "Converted 06_sdp.ipynb.\n",
      "Converted index.ipynb.\n"
     ]
    }
   ],
   "source": [
    "#hide\n",
    "from nbdev.export import notebook2script\n",
    "notebook2script()"
   ]
  }
 ],
 "metadata": {
  "kernelspec": {
   "display_name": "Python 3",
   "language": "python",
   "name": "python3"
  }
 },
 "nbformat": 4,
 "nbformat_minor": 4
}
