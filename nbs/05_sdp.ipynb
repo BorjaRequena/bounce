{
 "cells": [
  {
   "cell_type": "raw",
   "metadata": {},
   "source": [
    "---\n",
    "description: Toolkit to solve the semi-definite program defined by the optimization\n",
    "  problem and its set of constraints.\n",
    "output-file: sdp.html\n",
    "title: Semidefinite programming\n",
    "\n",
    "---\n",
    "\n"
   ]
  },
  {
   "cell_type": "code",
   "execution_count": null,
   "metadata": {},
   "outputs": [],
   "source": [
    "#| export\n",
    "import picos\n",
    "import numpy as np\n",
    "from itertools import combinations\n",
    "from collections.abc import Iterable\n",
    "from bounce.utils import state2str, simplify_layout"
   ]
  },
  {
   "cell_type": "code",
   "execution_count": null,
   "metadata": {},
   "outputs": [],
   "source": [
    "#| default_exp sdp"
   ]
  },
  {
   "cell_type": "code",
   "execution_count": null,
   "metadata": {},
   "outputs": [],
   "source": [
    "#| include: false\n",
    "from nbdev.showdoc import show_doc\n",
    "%load_ext autoreload\n",
    "%autoreload 2"
   ]
  },
  {
   "cell_type": "code",
   "execution_count": null,
   "metadata": {},
   "outputs": [],
   "source": [
    "#| export\n",
    "def picos2np(variable):\n",
    "    \"Converts picos variable (even sparse) to numpy matrix.\"\n",
    "    return picos.expressions.data.cvx2np(variable.value)"
   ]
  },
  {
   "cell_type": "markdown",
   "metadata": {},
   "source": [
    "## SdP formalism\n",
    "\n",
    "In order to formulate and solve the SdP there are two main needed items: \n",
    "* an object containing the problem details in terms of `picos.Constant` with a `to_sdp()` method, such as a `Hamiltonian` with `Hamiltonian.to_sdp()`.\n",
    "* a layout based in `np.ndarray`s, e.g., `L = [np.array([0, 1]), np.array([0, 1, 2])` determining the problem constraints."
   ]
  },
  {
   "cell_type": "code",
   "execution_count": null,
   "metadata": {},
   "outputs": [],
   "source": [
    "#| export\n",
    "class SdPSolver:\n",
    "    def __init__(self, solver='cvxopt'): self.solver = solver\n",
    "        \n",
    "    def solve(self):\n",
    "        raise NotImplementedError(\"Please define an appropiate `solve` method\" + \n",
    "                                  \" for your problem in the `SdPSolver`.\")\n",
    "        \n",
    "    def ojimetro(self):\n",
    "        raise NotImplementedError(\"Please define a cost estimation function method\" + \n",
    "                                  \" suitable for your problem in the `SdPSolver`.\")\n",
    "        "
   ]
  },
  {
   "cell_type": "markdown",
   "metadata": {},
   "source": [
    "The `SdPSolver` must be tailored to the problem instances that we aim to solve. Defining the problem and the solver should go hand-to-hand and they are handled by the `SdPEnvironment` during the optimization. Essentially, the environment takes the result of `problem.to_sdp()` and feeds it into the solver.  \n",
    "\n",
    "`SdPSolver`s have two main methods: `solve` and `ojimetro`. The first one, solves a problem instance given a layout, such as `solver.solve(problem.to_sdp(), layout)`. The second one estimates the cost associated to solving the SdP given a layout, with the syntax `solver.ojimetro(layout)`. We can choose any metric for the cost, for example, the amount of free variables in the resulting SdP. "
   ]
  },
  {
   "cell_type": "markdown",
   "metadata": {},
   "source": [
    "## Ground state energy approximation\n",
    "\n",
    "Finding the ground state energy of a quantum Hamiltonian is a fundamental problem in quantum physics. It constitutes global optimization problem over all possible quantum states $\\rho$ of the form $$E_0=\\min_\\rho \\text{Tr}\\left[\\rho H\\right]\\,,$$ where $E_0$ denotes the ground state energy for the Hamiltonian $H$. Nonetheless, the complexity of such optimization task grows exponentially with the physical system's size, so we often rely on approximations. Here, we consider a relaxation of the problem based on an SdP."
   ]
  },
  {
   "cell_type": "code",
   "execution_count": null,
   "metadata": {},
   "outputs": [],
   "source": [
    "#| export\n",
    "class SdPEnergySolver(SdPSolver):\n",
    "    \"\"\"Solver to compute lower bounds of the ground state energy of local Hamiltonians. It\n",
    "        follows the method described in [1] (see refs below) to formulate the objective and\n",
    "        enforce the problem constraints.\"\"\"\n",
    "        \n",
    "    def solve(self, interactions, layout):\n",
    "        \"\"\"Creates and solves the SdP associated to the given layout and Hamiltonian interactions.\n",
    "        The result is a lower bound of the Hamiltonian's ground state energy.\"\"\"\n",
    "        layout = simplify_layout(layout)\n",
    "        problem = picos.Problem(solver=self.solver)\n",
    "        variables = [(sites, picos.HermitianVariable('rho'+','.join(map(str, sites)), \n",
    "                                                    (2**len(sites), 2**len(sites)))) for sites in layout]\n",
    "        objective = self._build_energy_objective(variables, interactions)\n",
    "        \n",
    "        compatibility_constraints = self._get_compatibility_constraints(variables)\n",
    "        problem.add_list_of_constraints([rho >> 0 for _, rho in variables])\n",
    "        problem.add_list_of_constraints([picos.trace(rho) == 1 for _, rho in variables])\n",
    "        problem.add_list_of_constraints(compatibility_constraints)\n",
    "        problem.set_objective('min', objective)\n",
    "        \n",
    "        try:    \n",
    "            problem.solve()\n",
    "            result = np.real(objective.value)\n",
    "        except: \n",
    "            result = None\n",
    "        return result\n",
    "    \n",
    "    @staticmethod\n",
    "    def ojimetro(layout):\n",
    "        \"Estimates the amount of free parameters involved in the SdP associated to the `layout`.\"\n",
    "        layout = simplify_layout(layout)\n",
    "        all_variables = np.sum([2**(2*len(sites)) for sites in layout])\n",
    "        intersections = []\n",
    "        for k, sites1 in enumerate(layout[:-1]):\n",
    "            for sites2 in layout[k+1:]:\n",
    "                intersections.append(np.intersect1d(sites1, sites2))\n",
    "        intersections = simplify_layout(intersections)\n",
    "        dep_variables = np.sum([2**(2*len(sites)) for sites in intersections])\n",
    "        return all_variables - dep_variables   \n",
    "        \n",
    "    def _build_energy_objective(self, variables, interactions):\n",
    "        \"Builds the optimization objective: the expected energy.\"\n",
    "        objective = 0\n",
    "        for support, h in interactions:\n",
    "            supported = False\n",
    "            for sites, rho in variables:\n",
    "                common, _, idx = np.intersect1d(support, sites, return_indices=True)\n",
    "                if len(common) == len(support): \n",
    "                    rdm = rho.partial_trace(self._complementary_system(idx, len(sites)))\n",
    "                    objective += (rdm | h) # Tr(rdm·H')\n",
    "                    supported = True\n",
    "                    break\n",
    "            if not supported:\n",
    "                eigenvalues, _ = np.linalg.eigh(picos2np(h))\n",
    "                objective += min(eigenvalues)\n",
    "        return objective\n",
    "    \n",
    "    def _get_compatibility_constraints(self, variables):\n",
    "        \"Instantiates the compatibility constraints between the reduced density matrices.\"\n",
    "        compatibility_constraints = []\n",
    "        for k1, (sites1, rho1) in enumerate(variables):\n",
    "            for k2 in range(k1+1, len(variables)):\n",
    "                sites2, rho2 = variables[k2]\n",
    "                common, idx1, idx2 = np.intersect1d(sites1, sites2, return_indices=True)\n",
    "                if len(common) > 0:\n",
    "                    partial_trace1 = rho1.partial_trace(self._complementary_system(idx1, len(sites1)))\n",
    "                    partial_trace2 = rho2.partial_trace(self._complementary_system(idx2, len(sites2)))\n",
    "                    constraint = partial_trace1 - partial_trace2 == 0\n",
    "                    compatibility_constraints.append(constraint)\n",
    "        return compatibility_constraints\n",
    "    \n",
    "    @staticmethod\n",
    "    def _complementary_system(subsystem, size):\n",
    "        \"Obtains the complementary system of subsystem.\"\n",
    "        return list(map(int, np.setdiff1d(np.arange(size), subsystem)))"
   ]
  },
  {
   "cell_type": "markdown",
   "metadata": {},
   "source": [
    "The `SdPEnergySolver` solves the problem of finding lower bounds to the ground state energy of local Hamiltonians. Hence, the `SdPEnvironment` should receive a `Hamiltonian` as problem instance together with this solver. We use this case to illustrate the general behaviour of the `SdPSolvers` and how to use them."
   ]
  },
  {
   "cell_type": "code",
   "execution_count": null,
   "metadata": {},
   "outputs": [],
   "source": [
    "#| include: false\n",
    "from bounce.hamiltonian import XXHamiltonian, Chain1D\n",
    "from bounce.utils import fill_layout"
   ]
  },
  {
   "cell_type": "code",
   "execution_count": null,
   "metadata": {},
   "outputs": [],
   "source": [
    "N = 6\n",
    "chain = Chain1D(N)\n",
    "B, J = 1., [i%3 for i in range(N)]\n",
    "H = XXHamiltonian(chain, B, J)"
   ]
  },
  {
   "cell_type": "markdown",
   "metadata": {},
   "source": [
    "### Solving a problem instance\n",
    "\n",
    "Now that we have defined a problem, we use the `solve` method to define the objective function, which corresponds to the expected energy, and the problem constraints, given by a layout. "
   ]
  },
  {
   "cell_type": "code",
   "execution_count": null,
   "metadata": {},
   "outputs": [
    {
     "data": {
      "text/markdown": [
       "<h4 id=\"SdPEnergySolver.solve\" class=\"doc_header\"><code>SdPEnergySolver.solve</code><a href=\"__main__.py#L7\" class=\"source_link\" style=\"float:right\">[source]</a></h4>\n",
       "\n",
       "> <code>SdPEnergySolver.solve</code>(**`interactions`**, **`layout`**)\n",
       "\n",
       "Creates and solves the SdP associated to the given layout and Hamiltonian interactions.\n",
       "The result is a lower bound of the Hamiltonian's ground state energy."
      ],
      "text/plain": [
       "<IPython.core.display.Markdown object>"
      ]
     },
     "metadata": {},
     "output_type": "display_data"
    }
   ],
   "source": [
    "show_doc(SdPEnergySolver.solve)"
   ]
  },
  {
   "cell_type": "markdown",
   "metadata": {},
   "source": [
    "The method takes the `Hamiltonian.interactions`, provided by the `Hamiltonian.to_sdp()` method, and a layout with which we define the set of compatibility constraints imposed in the SdP, as we explain in [[1]](https://arxiv.org/abs/2103.03830). \n",
    "\n",
    "Given the Hamiltonian, let's define a layout in order to compute an energy bound."
   ]
  },
  {
   "cell_type": "code",
   "execution_count": null,
   "metadata": {},
   "outputs": [
    {
     "data": {
      "text/plain": [
       "[array([0, 5]), array([1]), array([2]), array([3]), array([4])]"
      ]
     },
     "execution_count": null,
     "metadata": {},
     "output_type": "execute_result"
    }
   ],
   "source": [
    "simple_layout = fill_layout([np.array([0, N-1])], N)\n",
    "simple_layout"
   ]
  },
  {
   "cell_type": "markdown",
   "metadata": {},
   "source": [
    "And now we can solve the associated SdP to the Hamiltonian with the given set of constraints."
   ]
  },
  {
   "cell_type": "code",
   "execution_count": null,
   "metadata": {},
   "outputs": [
    {
     "data": {
      "text/plain": [
       "-15.999999999012134"
      ]
     },
     "execution_count": null,
     "metadata": {},
     "output_type": "execute_result"
    }
   ],
   "source": [
    "solver = SdPEnergySolver()\n",
    "solver.solve(H.to_sdp(), simple_layout)"
   ]
  },
  {
   "cell_type": "markdown",
   "metadata": {},
   "source": [
    "Tightening the constraints, we can obtain a better energy bound. For instance, adding a 3-body element to the previous set we will obtain a higher energy."
   ]
  },
  {
   "cell_type": "code",
   "execution_count": null,
   "metadata": {},
   "outputs": [
    {
     "data": {
      "text/plain": [
       "[array([1, 2, 3]), array([0, 5]), array([4])]"
      ]
     },
     "execution_count": null,
     "metadata": {},
     "output_type": "execute_result"
    }
   ],
   "source": [
    "stronger_layout = fill_layout([np.array([1, 2, 3]), np.array([0, N-1])], N)\n",
    "stronger_layout"
   ]
  },
  {
   "cell_type": "code",
   "execution_count": null,
   "metadata": {},
   "outputs": [
    {
     "data": {
      "text/plain": [
       "-12.472135949820899"
      ]
     },
     "execution_count": null,
     "metadata": {},
     "output_type": "execute_result"
    }
   ],
   "source": [
    "solver.solve(H.to_sdp(), stronger_layout)"
   ]
  },
  {
   "cell_type": "markdown",
   "metadata": {},
   "source": [
    "### Cost estimation\n",
    "\n",
    "A key element of any optimization problem is its computational cost. We can take any consistent measure of the problem's cost as a valid estimation for the posterior optimization with the reinforcement learning framework. For example, since the actual complexity of solving an SdP depends on the algorithm that we use, we take the number of free parameters as a metric for the associated cost.  \n",
    "\n",
    "In order to get a cost estimation, we rely on the `ojimetro` method."
   ]
  },
  {
   "cell_type": "code",
   "execution_count": null,
   "metadata": {},
   "outputs": [
    {
     "data": {
      "text/markdown": [
       "<h4 id=\"SdPEnergySolver.ojimetro\" class=\"doc_header\"><code>SdPEnergySolver.ojimetro</code><a href=\"__main__.py#L29\" class=\"source_link\" style=\"float:right\">[source]</a></h4>\n",
       "\n",
       "> <code>SdPEnergySolver.ojimetro</code>(**`layout`**)\n",
       "\n",
       "Estimates the amount of free parameters involved in the SdP associated to the `layout`."
      ],
      "text/plain": [
       "<IPython.core.display.Markdown object>"
      ]
     },
     "metadata": {},
     "output_type": "display_data"
    }
   ],
   "source": [
    "show_doc(SdPEnergySolver.ojimetro)"
   ]
  },
  {
   "cell_type": "markdown",
   "metadata": {},
   "source": [
    "Following our example, the first SdP was a wild relaxation of the original problem."
   ]
  },
  {
   "cell_type": "code",
   "execution_count": null,
   "metadata": {},
   "outputs": [
    {
     "data": {
      "text/plain": [
       "31"
      ]
     },
     "execution_count": null,
     "metadata": {},
     "output_type": "execute_result"
    }
   ],
   "source": [
    "solver.ojimetro(simple_layout)"
   ]
  },
  {
   "cell_type": "markdown",
   "metadata": {},
   "source": [
    "However, the second one was a tighter one."
   ]
  },
  {
   "cell_type": "code",
   "execution_count": null,
   "metadata": {},
   "outputs": [
    {
     "data": {
      "text/plain": [
       "83"
      ]
     },
     "execution_count": null,
     "metadata": {},
     "output_type": "execute_result"
    }
   ],
   "source": [
    "solver.ojimetro(stronger_layout)"
   ]
  },
  {
   "cell_type": "markdown",
   "metadata": {},
   "source": [
    "With the first set of constraints, the resulting SdP had 31 free variables to optimize, while the second SdP had to deal with 83. Tighter energy bounds usually come at the cost of higher computational costs. "
   ]
  },
  {
   "cell_type": "code",
   "execution_count": null,
   "metadata": {},
   "outputs": [],
   "source": [
    "assert solver.ojimetro(simple_layout) < solver.ojimetro(stronger_layout)"
   ]
  },
  {
   "cell_type": "markdown",
   "metadata": {},
   "source": [
    "### Alternative methods to lower bound the ground state energy\n",
    "We implement two other methods to obtain lower bounds of many-body Hamiltonians. We rewrite the Anderson bound [[2]](https://journals.aps.org/pr/abstract/10.1103/PhysRev.83.1260) and the method introduced by Uskov and Lichovskiy in [[3]](https://iopscience.iop.org/article/10.1088/1742-6596/1163/1/012057) in SdP form to compare with the proposed methodology above. The SdP formulation ensures that the obtained result is the actual global minimum.\n",
    "\n",
    "The main limitation of these methods is not taking into account compatibility constraints between the reduced density matrices spanning the system. Furthermore, they rely on symmetries (such as translational invariance) and can, thus, not be used to solve inhomogeneous systems. Conversely, the approach we introduced above can be nautrally complemented by introducing additional constratints stemming from any previously known symmetry from the system. "
   ]
  },
  {
   "cell_type": "code",
   "execution_count": null,
   "metadata": {},
   "outputs": [],
   "source": [
    "#| export\n",
    "class SdPEnergyAndersonSolver(SdPEnergySolver):\n",
    "    \"\"\"Solver to compute bounds to the ground state energy of local Hamiltonians implementing the\n",
    "    methods described in [2] (see references below). Finds the so-called Anderson bound. Assumes\n",
    "    the system is one-dimensional.\"\"\"\n",
    "    \n",
    "    def solve(self, interactions, cluster_size=3):\n",
    "        \"Computes the Anderson bound for a one-dimensional system with `interactions`.\"\n",
    "        cluster_size, n_clusters = self._get_clusters(interactions, cluster_size)\n",
    "\n",
    "        sites = np.arange(cluster_size)\n",
    "        rho = picos.HermitianVariable('rho'+','.join(map(str, sites)),\n",
    "                                      (2**cluster_size, 2**cluster_size))\n",
    "        objective = self._build_energy_objective(sites, rho, interactions)\n",
    "        \n",
    "        problem = picos.Problem(solver=self.solver)\n",
    "        problem.add_constraint(rho >> 0)\n",
    "        problem.add_constraint(picos.trace(rho) == 1)\n",
    "        problem.set_objective('min', objective)\n",
    "        \n",
    "        try:    \n",
    "            problem.solve()\n",
    "            result = np.real(objective.value)\n",
    "        except: \n",
    "            print(problem)\n",
    "            result = 0.\n",
    "        return n_clusters*result\n",
    "        \n",
    "    def ojimetro(self, cluster_size):\n",
    "        \"Estimates the cost involved in finding the Anderson bound for the given cluster size.\"\n",
    "        cluster_size = self._get_cluster_size(cluster_size)\n",
    "        return 2**(2*cluster_size)\n",
    "    \n",
    "    def _build_energy_objective(self, sites, rho, interactions):\n",
    "        objective = 0\n",
    "        for support, h in interactions: \n",
    "            common, _, idx = np.intersect1d(support, sites, return_indices=True)\n",
    "            if len(common) == len(support): \n",
    "                rdm = rho.partial_trace(self._complementary_system(idx, len(sites)))\n",
    "                objective += (rdm | h) # Tr(rdm·H')\n",
    "        return objective\n",
    "        \n",
    "    def _get_clusters(self, interactions, cluster_size):\n",
    "        \"Find the number of clusters needed for the system.\"\n",
    "        system_size = max([s for sites, _ in interactions for s in sites]) + 1\n",
    "        cluster_size = self._get_cluster_size(cluster_size)\n",
    "        if system_size % (cluster_size - 1) != 0:\n",
    "            raise ValueError(f\"The number of qubits {system_size} must be divisible by \" +\n",
    "                             \"cluster_size - 1.\")\n",
    "        else: \n",
    "            n_clusters = system_size // (cluster_size - 1) # 1D nearest-neighbor interaction\n",
    "        return cluster_size, n_clusters\n",
    "    \n",
    "    @staticmethod\n",
    "    def _get_cluster_size(cluster_size):\n",
    "        \"Checks the `cluster_size` format and handles it accordingly.\"\n",
    "        if isinstance(cluster_size, (int, float)): return int(cluster_size)\n",
    "        elif isinstance(cluster_size, Iterable): return max([len(l) for l in cluster_size])\n",
    "        else: raise ValueError(\"`cluster_size` should be an int or a layout.\")        "
   ]
  },
  {
   "cell_type": "code",
   "execution_count": null,
   "metadata": {},
   "outputs": [],
   "source": [
    "#| export\n",
    "class SdPEnergyUskovLichkovskiySolver(SdPEnergyAndersonSolver):\n",
    "    \"\"\"Solver to compute ground state energy bounds of local Hamiltonians. It follows the method\n",
    "    introduced in [3] (see references below) to improve over the Anderson bound. The method assumes\n",
    "    the reduced states have certain symmetries, such as translational invariance.\"\"\"\n",
    "    \n",
    "    def solve(self, interactions, cluster_size=3):\n",
    "        \"Computes the Uskov and Lichkovskiy bound for a one-dimensional Hamiltonian.\"\n",
    "        cluster_size, n_clusters = self._get_clusters(interactions, cluster_size)\n",
    "        \n",
    "        sites = np.arange(cluster_size)\n",
    "        rho = picos.HermitianVariable('rho'+','.join(map(str, sites)), (2**cluster_size, 2**cluster_size))\n",
    "        objective = self._build_energy_objective(sites, rho, interactions) \n",
    "        \n",
    "        symmetry_constraints = self._get_symmetry_constraints(sites, rho)\n",
    "        problem = picos.Problem(solver = 'cvxopt')\n",
    "        problem.add_constraint(rho >> 0)\n",
    "        problem.add_constraint(picos.trace(rho) == 1)\n",
    "        problem.add_list_of_constraints(symmetry_constraints)\n",
    "        problem.set_objective('min', objective)\n",
    "        \n",
    "        try:    \n",
    "            problem.solve()\n",
    "            result = np.real(objective.value)\n",
    "        except: \n",
    "            print(problem)\n",
    "            result = 0.\n",
    "        return n_clusters*result\n",
    "        \n",
    "        \n",
    "    def _get_symmetry_constraints(self, sites, rho):\n",
    "        # Symmetry constraints: TI and specular symmetry in the cluster\n",
    "        x = picos.Constant('x', [[0, 1], [1, 0]])\n",
    "        y = picos.Constant('y', [[0, -1j], [1j, 0]])\n",
    "        z = picos.Constant('z', [[1, 0], [0, -1]])\n",
    "        Id = picos.Constant('Id', [[1, 0], [0, 1]])\n",
    "\n",
    "        def sigma_term(idx): return tensor_prod(idx, x) + tensor_prod(idx, y) + tensor_prod(idx, z)\n",
    "\n",
    "        def tensor_prod(idx, s):\n",
    "            \"Tensor product of operator `s` acting on indexes `idx`. Fills rest with Id.\"\n",
    "            matrices = [s if i in idx else Id for i in sites]\n",
    "            prod = matrices[0]\n",
    "            for i in range(1, len(sites)): prod = prod @ matrices[i]\n",
    "            return prod\n",
    "        \n",
    "        constraints = []\n",
    "        idx = [sites[i:i+2] for i in range(len(sites)-1)]\n",
    "        for i in range(len(idx)//2):\n",
    "            left, right = sigma_term(idx[i]), sigma_term(idx[-(i+1)])\n",
    "            adj = sigma_term(idx[i+1])\n",
    "            # Specular symmetry\n",
    "            constraints.append((left | rho) == (right | rho)) # Tr(sigma_01*rho) = Tr(sigma_{n-1,n}*rho)\n",
    "            # Translational invariance\n",
    "            constraints.append((left | rho) == (adj | rho)) # Tr(sigma_01*rho) = Tr(sigma_12*rho)\n",
    "            \n",
    "        return constraints"
   ]
  },
  {
   "cell_type": "code",
   "execution_count": null,
   "metadata": {},
   "outputs": [],
   "source": [
    "#| include: false\n",
    "from bounce.hamiltonian import XYZHamiltonian"
   ]
  },
  {
   "cell_type": "markdown",
   "metadata": {},
   "source": [
    "We can quickly reproduce the results from [[3]](https://iopscience.iop.org/article/10.1088/1742-6596/1163/1/012057) (see Table 2) by properly adjusting the cluster size and using the same Hamiltonian."
   ]
  },
  {
   "cell_type": "code",
   "execution_count": null,
   "metadata": {},
   "outputs": [],
   "source": [
    "N = 8\n",
    "chain = Chain1D(N)\n",
    "B, J = 0, 1\n",
    "H = XYZHamiltonian(chain, B, J)"
   ]
  },
  {
   "cell_type": "code",
   "execution_count": null,
   "metadata": {},
   "outputs": [],
   "source": [
    "solver_anderson = SdPEnergyAndersonSolver()\n",
    "solver_uskov = SdPEnergyUskovLichkovskiySolver()"
   ]
  },
  {
   "cell_type": "code",
   "execution_count": null,
   "metadata": {},
   "outputs": [],
   "source": [
    "cluster_size = 5\n",
    "layout = [np.sort(np.arange(i, i+cluster_size)%N) for i in np.arange(0, N, cluster_size-3)]"
   ]
  },
  {
   "cell_type": "code",
   "execution_count": null,
   "metadata": {},
   "outputs": [
    {
     "data": {
      "text/plain": [
       "(-1.9278862525095595, -1.8685170845449277, -1.868517086761974)"
      ]
     },
     "execution_count": null,
     "metadata": {},
     "output_type": "execute_result"
    }
   ],
   "source": [
    "#| slow\n",
    "solver_anderson.solve(H.to_sdp(), cluster_size)/N, solver_uskov.solve(H.to_sdp(), cluster_size)/N, solver.solve(H.to_sdp(), layout)/N"
   ]
  },
  {
   "cell_type": "markdown",
   "metadata": {},
   "source": [
    "## Entanglement witnessing\n",
    "\n",
    "We take an energy-based approach to build entanglement witnesses here. The main principle is, given a Hamiltonian, we compute the minimum possible energy obtainable within the set of separable states. Then, if we find a state that yields a lower energy, it means that it is entangled [[4]](https://journals.aps.org/pra/abstract/10.1103/PhysRevA.71.010301). \n",
    "\n",
    "Formally, $$\\Delta E = \\langle H\\rangle - E_{\\text{sep}}$$ denotes the energy gap between the expected energy of a state, $\\langle H\\rangle = \\text{Tr}\\left[\\rho H\\right]$, and the minimum energy obtainable by separable states, $E_{\\text{sep}}$. If $\\Delta E < 0$, $\\rho$ is an entangled state, as it is beyond the set of separable states. The larger the difference, $|\\Delta E|$, the more robust the entanglement. Actually, $|\\Delta E|$ quantifies the energy the system must receive to become separable."
   ]
  },
  {
   "cell_type": "code",
   "execution_count": null,
   "metadata": {},
   "outputs": [],
   "source": [
    "#| export\n",
    "class SdPWitnessSolver(SdPEnergySolver):\n",
    "    \"\"\"Solver to detect entanglement from energy bounds. It follows the formalism described in [1]\n",
    "    to obtain a lower bound of the minimum energy for separable states. If we can find a state with\n",
    "    a lower energy than that, the state is entangled.\"\"\"\n",
    "    \n",
    "    def solve(self, interactions, layout):\n",
    "        \"\"\"Creates and solves the SdP associated to the given layout and Hamiltonian interactions.\n",
    "        The result is a lower bound of the minimum energy for separable states.\"\"\"\n",
    "        layout = simplify_layout(layout)\n",
    "        problem = picos.Problem(solver=self.solver)\n",
    "        variables = [(site, picos.HermitianVariable('rho'+','.join(map(str, site)), \n",
    "                                                    (2**len(site), 2**len(site)))) for site in layout]\n",
    "        objective = self._build_energy_objective(variables, interactions)\n",
    "        \n",
    "        compatibility_constraints = self._get_compatibility_constraints(variables)\n",
    "        ppt_constraints = self._get_ppt_constraints(variables)\n",
    "        problem.add_list_of_constraints([rho >> 0 for _, rho in variables])\n",
    "        problem.add_list_of_constraints([picos.trace(rho) == 1 for _, rho in variables])\n",
    "        problem.add_list_of_constraints(compatibility_constraints)\n",
    "        problem.add_list_of_constraints(ppt_constraints)\n",
    "        problem.set_objective('min', objective)\n",
    "        \n",
    "        try:    \n",
    "            problem.solve()\n",
    "            result = np.real(objective.value)\n",
    "        except: \n",
    "            result = None\n",
    "        return result\n",
    "    \n",
    "    @staticmethod\n",
    "    def _get_ppt_constraints(variables):\n",
    "        \"\"\"Returns the constraints to be imposed such that the reduced density matrices are\n",
    "        positive under partial transposition (PPT) to approximate the set of separable states.\"\"\"\n",
    "        constraints = []\n",
    "        for sites, rho in variables:\n",
    "            idx = np.arange(len(sites))\n",
    "            for size in range(1, len(sites)):\n",
    "                constraints.append([picos.partial_transpose(rho, \n",
    "                                                            subsystems=map(int, subsystem)) >> 0 \n",
    "                                    for subsystem in combinations(idx, size)])\n",
    "        return [c for rdm_constraints in constraints for c in rdm_constraints]"
   ]
  },
  {
   "cell_type": "markdown",
   "metadata": {},
   "source": [
    "The `SdPWitnessSolver` provides a lower bound for $E_{\\text{sep}}$ given a `Hamiltonian`. We build upon the `SdPEnergySolver` imposing additional constraints to enforce separability on our states. However, imposing such conditions to their full extent is extremely costly. Instead, we impose that our states are positive under partial transposition (PPT), which is a relaxation that is exact in the one-dimensional limit. Hence, the bound on $E_{\\text{sep}}$. \n",
    "\n",
    "Let's see an example! First of all, we need to build our problem."
   ]
  },
  {
   "cell_type": "code",
   "execution_count": null,
   "metadata": {},
   "outputs": [],
   "source": [
    "N = 6\n",
    "chain = Chain1D(N)\n",
    "B, J = 1, 2\n",
    "H = XXHamiltonian(chain, B, J)"
   ]
  },
  {
   "cell_type": "markdown",
   "metadata": {},
   "source": [
    "Now we can instantiate our solver."
   ]
  },
  {
   "cell_type": "code",
   "execution_count": null,
   "metadata": {},
   "outputs": [],
   "source": [
    "solver_witness = SdPWitnessSolver()"
   ]
  },
  {
   "cell_type": "markdown",
   "metadata": {},
   "source": [
    "We define a layout of 2-body terms."
   ]
  },
  {
   "cell_type": "code",
   "execution_count": null,
   "metadata": {},
   "outputs": [
    {
     "data": {
      "text/plain": [
       "[array([0, 1]),\n",
       " array([1, 2]),\n",
       " array([2, 3]),\n",
       " array([3, 4]),\n",
       " array([4, 5]),\n",
       " array([0, 5])]"
      ]
     },
     "execution_count": null,
     "metadata": {},
     "output_type": "execute_result"
    }
   ],
   "source": [
    "layout = fill_layout([np.sort([i, (i+1)%N]) for i in range(N)], N)\n",
    "layout"
   ]
  },
  {
   "cell_type": "markdown",
   "metadata": {},
   "source": [
    "And now we're ready to solve it."
   ]
  },
  {
   "cell_type": "code",
   "execution_count": null,
   "metadata": {},
   "outputs": [
    {
     "data": {
      "text/plain": [
       "-12.749999991956518"
      ]
     },
     "execution_count": null,
     "metadata": {},
     "output_type": "execute_result"
    }
   ],
   "source": [
    "solver_witness.solve(H.to_sdp(), layout)"
   ]
  },
  {
   "cell_type": "markdown",
   "metadata": {},
   "source": [
    "In [[4]](https://journals.aps.org/pra/abstract/10.1103/PhysRevA.71.010301) we find analytic expressions of $E_{\\text{sep}}$ for some Hamiltonians, including the XX model we consider here.  "
   ]
  },
  {
   "cell_type": "code",
   "execution_count": null,
   "metadata": {},
   "outputs": [],
   "source": [
    "def exact_XX_sep_bound(N, B, J, d):\n",
    "    b = B/J/d\n",
    "    if b <= 2:\n",
    "        return -d*N*J*(1+b**2/4)\n",
    "    return -d*N*J*b"
   ]
  },
  {
   "cell_type": "code",
   "execution_count": null,
   "metadata": {},
   "outputs": [
    {
     "data": {
      "text/plain": [
       "-12.75"
      ]
     },
     "execution_count": null,
     "metadata": {},
     "output_type": "execute_result"
    }
   ],
   "source": [
    "exact_XX_sep_bound(N, B, J, 1)"
   ]
  },
  {
   "cell_type": "markdown",
   "metadata": {},
   "source": [
    "We see that, since we've chosen to implement the Hamiltonian in a one-dimensional chain, the result we obtained is exact. Now we can use the `SdPEnergySolver` to obtain the ground state energy and compare it to the separable threshold."
   ]
  },
  {
   "cell_type": "code",
   "execution_count": null,
   "metadata": {},
   "outputs": [
    {
     "data": {
      "text/plain": [
       "-23.99999993375356"
      ]
     },
     "execution_count": null,
     "metadata": {},
     "output_type": "execute_result"
    }
   ],
   "source": [
    "solver_energy = SdPEnergySolver()\n",
    "solver_energy.solve(H.to_sdp(), layout)"
   ]
  },
  {
   "cell_type": "markdown",
   "metadata": {},
   "source": [
    "The ground state is entangled! :)\n",
    "\n",
    "If we now change the Hamiltonian parameters, we can land on a separable ground state."
   ]
  },
  {
   "cell_type": "code",
   "execution_count": null,
   "metadata": {},
   "outputs": [],
   "source": [
    "B, J = 5, 1\n",
    "H = XXHamiltonian(chain, B, J)"
   ]
  },
  {
   "cell_type": "code",
   "execution_count": null,
   "metadata": {},
   "outputs": [
    {
     "data": {
      "text/plain": [
       "(-29.9999999937129, -29.999999800727085)"
      ]
     },
     "execution_count": null,
     "metadata": {},
     "output_type": "execute_result"
    }
   ],
   "source": [
    "solver_witness.solve(H.to_sdp(), layout), solver_energy.solve(H.to_sdp(), layout)"
   ]
  },
  {
   "cell_type": "markdown",
   "metadata": {},
   "source": [
    "In this case, both energies match. This confirms that the ground state is, indeed, a separable state. "
   ]
  },
  {
   "cell_type": "markdown",
   "metadata": {},
   "source": [
    "# References\n",
    "[1] B. Requena, G. Muñoz-Gil, M. Lewenstein, V. Dunjko, J. Tura. [Certificates of quantum many-body properties assisted by machine learning](https://arxiv.org/abs/2103.03830). *arXiv:2103.03830 (2021)*\n",
    "\n",
    "[2] P. W. Anderson. [Limits on the Energy of the Antiferromagnetic Ground State](https://journals.aps.org/pr/abstract/10.1103/PhysRev.83.1260). *Physical Review* **83**, 1260 (1951)\n",
    "\n",
    "[3] F. Uskov and O. Lychkovskiy. [A variational lower bound on the ground state of a many-body system and the squaring parametrization of density matrices](https://iopscience.iop.org/article/10.1088/1742-6596/1163/1/012057). *Journal of Physics: Conference Series* **1163** 012057 (2019)\n",
    "\n",
    "[4] G. Tóth. [Entanglement Witnesses in Spin Models](https://journals.aps.org/pra/abstract/10.1103/PhysRevA.71.010301). *Physical Review A* **71** 010301 (2005)."
   ]
  },
  {
   "cell_type": "markdown",
   "metadata": {},
   "source": [
    "#| hide\n",
    "# Export-"
   ]
  },
  {
   "cell_type": "code",
   "execution_count": null,
   "metadata": {},
   "outputs": [
    {
     "name": "stdout",
     "output_type": "stream",
     "text": [
      "Converted 00_environment.ipynb.\n",
      "Converted 01_agents.ipynb.\n",
      "Converted 02_budget_profiles.ipynb.\n",
      "Converted 03_hamiltonian.ipynb.\n",
      "Converted 04_training.ipynb.\n",
      "Converted 05_utils.ipynb.\n",
      "Converted 06_sdp.ipynb.\n",
      "Converted index.ipynb.\n"
     ]
    }
   ],
   "source": [
    "#| include: false\n",
    "from nbdev import nbdev_export\n",
    "nbdev_export()"
   ]
  }
 ],
 "metadata": {
  "kernelspec": {
   "display_name": "Python 3 (ipykernel)",
   "language": "python",
   "name": "python3"
  }
 },
 "nbformat": 4,
 "nbformat_minor": 4
}
